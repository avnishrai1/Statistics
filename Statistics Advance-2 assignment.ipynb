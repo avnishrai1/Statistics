{
 "cells": [
  {
   "cell_type": "markdown",
   "id": "af41f5f0-5cbe-497a-b0c5-0d2cf2a91028",
   "metadata": {},
   "source": [
    "# Q1: What are the Probability Mass Function (PMF) and Probability Density Function (PDF)? Explain with an example."
   ]
  },
  {
   "cell_type": "markdown",
   "id": "7f2ff663-4d67-4388-bde8-23265dabe0ca",
   "metadata": {},
   "source": [
    "Probability Mass Function (PMF):\n",
    "\n",
    "PMF is used for discrete random variables.\n",
    "It assigns probabilities to each possible outcome.\n",
    "Example: Rolling a fair six-sided die, the PMF would assign a probability of 1/6 to each of the six possible outcomes (1, 2, 3, 4, 5, 6).\n",
    "Probability Density Function (PDF):\n",
    "\n",
    "PDF is used for continuous random variables.\n",
    "It represents the probability of a random variable falling within a particular range.\n",
    "Example: The PDF of a standard normal distribution (bell-shaped curve) shows the probability of a continuous variable taking on various values within the range.\n",
    "\n",
    "PMF and PDF are both fundamental concepts in probability and statistics used to describe the probability distribution of random variables."
   ]
  },
  {
   "cell_type": "markdown",
   "id": "9f52401c-366b-4b79-a6c0-604ffece05ff",
   "metadata": {},
   "source": [
    "# Q2: What is Cumulative Density Function (CDF)? Explain with an example. Why CDF is used?"
   ]
  },
  {
   "cell_type": "markdown",
   "id": "889d1ec5-ab31-4edc-aa02-76c37e999cde",
   "metadata": {},
   "source": [
    "Cumulative Density Function (CDF):\n",
    "\n",
    "CDF represents the cumulative probability that a random variable takes on a value less than or equal to a given value.\n",
    "It's used for both discrete and continuous random variables.\n",
    "Example: For a six-sided die, the CDF would show how the probability accumulates as you move from 1 to 2, 2 to 3, and so on. For a continuous variable like height, the CDF would indicate the probability of being shorter than a specific height.\n",
    "Why CDF is used:\n",
    "\n",
    "CDF provides a comprehensive view of the distribution, allowing you to find probabilities for specific ranges or values.\n",
    "It's useful for calculating percentiles, determining the probability of an event occurring within a certain range, and making various statistical inferences."
   ]
  },
  {
   "cell_type": "markdown",
   "id": "13307016-a534-4fd5-9ec8-d8e3c98290ab",
   "metadata": {},
   "source": [
    "# Q3: What are some examples of situations where the normal distribution might be used as a model? Explain how the parameters of the normal distribution relate to the shape of the distribution."
   ]
  },
  {
   "cell_type": "markdown",
   "id": "5b949288-0ffb-435d-83b4-cd8e75640be6",
   "metadata": {},
   "source": [
    "Examples of situations where the normal distribution might be used as a model include:\n",
    "\n",
    "Height of individuals: The heights of people in a population often follow a roughly normal distribution.\n",
    "Test scores: Test scores on standardized exams, when many people take the test, often approximate a normal distribution.\n",
    "Measurement errors: In scientific experiments, measurement errors can often be modeled as normally distributed.\n",
    "Stock market returns: Daily returns of stock prices often exhibit a close-to-normal distribution.\n",
    "The shape of the normal distribution is characterized by two parameters:\n",
    "\n",
    "Mean (μ): It represents the central location of the distribution. It's the average value, and it's also the peak of the bell-shaped curve.\n",
    "Standard Deviation (σ): It determines the spread or dispersion of the distribution. A larger standard deviation leads to a wider and flatter curve, while a smaller standard deviation results in a narrower and taller curve.\n",
    "Together, the mean and standard deviation uniquely define the normal distribution, and they determine how data is distributed around the mean."
   ]
  },
  {
   "cell_type": "markdown",
   "id": "83d2a212-728b-4b69-b5a5-25b8680bcffc",
   "metadata": {},
   "source": [
    "# Q4: Explain the importance of Normal Distribution. Give a few real-life examples of Normal Distribution."
   ]
  },
  {
   "cell_type": "markdown",
   "id": "6a87c581-9886-470f-b8b4-854d9e5367a5",
   "metadata": {},
   "source": [
    "The importance of the Normal Distribution lies in its widespread applicability in various real-life scenarios, thanks to the Central Limit Theorem. Here are some key points:\n",
    "\n",
    "Statistical Inference: Many statistical methods and hypothesis tests are based on the assumption of a normal distribution, allowing us to make accurate predictions and draw meaningful conclusions.\n",
    "\n",
    "Risk Assessment: It's used in risk analysis and financial modeling to understand the likelihood of certain events, such as stock price movements or loan default rates.\n",
    "\n",
    "Quality Control: In manufacturing, it helps in monitoring and controlling product quality by modeling the distribution of measurements, such as product dimensions or defects.\n",
    "\n",
    "Biological and Natural Phenomena: Numerous biological and natural phenomena, like human height, IQ scores, and rainfall amounts, often follow a normal distribution.\n",
    "\n",
    "Psychology and Social Sciences: In psychology, test scores and personality traits are often assumed to be normally distributed for research and assessment purposes."
   ]
  },
  {
   "cell_type": "markdown",
   "id": "6e9ebff0-e292-4288-93f2-0c296a404383",
   "metadata": {},
   "source": [
    "# Q5: What is Bernaulli Distribution? Give an Example. What is the difference between Bernoulli Distribution and Binomial Distribution?"
   ]
  },
  {
   "cell_type": "markdown",
   "id": "92356720-627c-4f0c-a7ef-48f6732f00d3",
   "metadata": {},
   "source": [
    "Bernoulli Distribution:\n",
    "\n",
    "The Bernoulli Distribution is a probability distribution that represents a random experiment with two possible outcomes: success (usually denoted as 1) and failure (usually denoted as 0). It's characterized by a single parameter, denoted as \"p,\" which represents the probability of success. The probability mass function (PMF) of a Bernoulli distribution is given by:\n",
    "\n",
    "P(X = 1) = p\n",
    "P(X = 0) = 1 - p\n",
    "\n",
    "Example: Consider flipping a fair coin, where \"Heads\" is considered a success (1) and \"Tails\" is considered a failure (0). The Bernoulli distribution for this scenario has p = 0.5 because there's an equal probability of getting Heads or Tails.\n",
    "\n",
    "Difference between Bernoulli and Binomial Distributions:\n",
    "\n",
    "Number of Trials:\n",
    "\n",
    "Bernoulli Distribution: Represents a single trial or experiment with two possible outcomes (success or failure).\n",
    "Binomial Distribution: Represents the number of successes (1s) in a fixed number of independent Bernoulli trials (experiments).\n",
    "Parameters:\n",
    "\n",
    "Bernoulli Distribution: Has one parameter (p) representing the probability of success in a single trial.\n",
    "Binomial Distribution: Has two parameters: \"n\" (the number of trials) and \"p\" (the probability of success in each trial).\n",
    "Random Variable:\n",
    "\n",
    "Bernoulli Distribution: Represents the outcome of a single trial (0 or 1).\n",
    "Binomial Distribution: Represents the total count of successes in \"n\" trials (can take values from 0 to n).\n",
    "Probability Mass Function (PMF):\n",
    "\n",
    "Bernoulli Distribution: Describes the probability of success (1) and failure (0) in a single trial.\n",
    "Binomial Distribution: Describes the probability of getting a specific number of successes (k) in \"n\" trials."
   ]
  },
  {
   "cell_type": "markdown",
   "id": "ff6dbb76-bcd7-4bec-bac9-c9ab7df2843a",
   "metadata": {},
   "source": [
    "# Q6. Consider a dataset with a mean of 50 and a standard deviation of 10. If we assume that the dataset is normally distributed, what is the probability that a randomly selected observation will be greater than 60? Use the appropriate formula and show your calculations."
   ]
  },
  {
   "cell_type": "code",
   "execution_count": 1,
   "id": "86aab7bb-d456-49e5-80ac-90bd7c8738ef",
   "metadata": {},
   "outputs": [
    {
     "name": "stdout",
     "output_type": "stream",
     "text": [
      "The probability that a randomly selected observation will be greater than 60 is: 0.15865525393145707\n"
     ]
    }
   ],
   "source": [
    "import scipy.stats as stats\n",
    "\n",
    "mean = 50\n",
    "std_dev = 10\n",
    "value = 60\n",
    "\n",
    "z = (value - mean) / std_dev\n",
    "\n",
    "# Calculate the probability using the cumulative distribution function (CDF)\n",
    "probability = 1 - stats.norm.cdf(z)\n",
    "\n",
    "# Print the result\n",
    "print(\"The probability that a randomly selected observation will be greater than 60 is:\", probability)"
   ]
  },
  {
   "cell_type": "markdown",
   "id": "49f44f62-c988-47ff-a438-ba8d27ffdc0b",
   "metadata": {},
   "source": [
    "# Q7: Explain uniform Distribution with an example."
   ]
  },
  {
   "cell_type": "markdown",
   "id": "ec55b876-a3d2-4d62-81ef-92a0280cd465",
   "metadata": {},
   "source": [
    "Uniform Distribution is a probability distribution where all possible outcomes are equally likely. In other words, every value within a specified range has the same probability of occurring.\n",
    "\n",
    "Example: Rolling a fair six-sided die is an example of a discrete uniform distribution. Each of the six sides has an equal probability of 1/6 of showing up, making it a uniform distribution."
   ]
  },
  {
   "cell_type": "markdown",
   "id": "e978f0c6-f68b-4a29-a06d-4813b8706b8b",
   "metadata": {},
   "source": [
    "# Q8: What is the z score? State the importance of the z score."
   ]
  },
  {
   "cell_type": "markdown",
   "id": "3d64d135-bc9b-4813-8023-a63e2d1e8cf9",
   "metadata": {},
   "source": [
    "A z-score is a statistical measure that indicates how many standard deviations a data point is from the mean of a dataset. Calculated as (X - μ) / σ, where X is the data point, μ is the mean, and σ is the standard deviation, it standardizes data for comparison and analysis. \n",
    "\n",
    "The importance of z-scores lies in their role in standardizing data, facilitating cross-dataset comparisons, identifying outliers, aiding in statistical analysis and hypothesis testing, and normalizing data for machine learning. They provide a standardized way to assess the relative position and significance of data points, making them a fundamental tool in statistics and data analysis."
   ]
  },
  {
   "cell_type": "markdown",
   "id": "23d31573-83e6-41d1-83a8-89b2e1ce29b0",
   "metadata": {},
   "source": [
    "# Q9: What is Central Limit Theorem? State the significance of the Central Limit Theorem."
   ]
  },
  {
   "cell_type": "markdown",
   "id": "f99df0dd-3055-4ef2-8fb2-2667e7abe6a7",
   "metadata": {},
   "source": [
    "The Central Limit Theorem (CLT) is a statistical principle stating that the sampling distribution of the sample mean (or other sample statistics) from a sufficiently large random sample, drawn from any population, will approximate a normal distribution, regardless of the population's original shape, under certain conditions.\n",
    "\n",
    "Significance:\n",
    "\n",
    "Statistical Inference: It enables the use of normal distribution for making inferences about population parameters, even when the population distribution is unknown.\n",
    "\n",
    "Hypothesis Testing: It forms the basis for many hypothesis tests and confidence interval calculations.\n",
    "\n",
    "Real-world Data: CLT is vital for analyzing and understanding real-world data, where data often approximates a normal distribution, making statistical analysis more applicable.\n",
    "\n",
    "Quality Control: In manufacturing and quality control, it helps monitor and maintain product quality.\n",
    "\n",
    "Predictive Modeling: In fields like finance, it underpins risk assessment and predictive modeling.\n",
    "\n",
    "In summary, the Central Limit Theorem is a fundamental concept with wide-ranging applications in statistics, enabling more robust and meaningful data analysis and inference."
   ]
  },
  {
   "cell_type": "markdown",
   "id": "66015740-e544-42b7-beed-633c74509a90",
   "metadata": {},
   "source": [
    "# Q10: State the assumptions of the Central Limit Theorem."
   ]
  },
  {
   "cell_type": "markdown",
   "id": "9e9d33f6-dc08-437d-987f-ed034107dc73",
   "metadata": {},
   "source": [
    "The Central Limit Theorem (CLT) relies on several key assumptions:\n",
    "\n",
    "Random Sampling: Samples must be drawn randomly from the population, ensuring each item in the population has an equal chance of being included.\n",
    "\n",
    "Independence: Samples should be independent of each other. The selection of one item should not influence the selection of another.\n",
    "\n",
    "Sample Size: The sample size should be sufficiently large. While there's no fixed rule, a common guideline is a sample size of at least 30 or more for the CLT to apply.\n",
    "\n",
    "These assumptions are essential for the CLT to hold and for the sampling distribution of the sample mean to approximate a normal distribution, regardless of the population's shape."
   ]
  }
 ],
 "metadata": {
  "kernelspec": {
   "display_name": "Python 3 (ipykernel)",
   "language": "python",
   "name": "python3"
  },
  "language_info": {
   "codemirror_mode": {
    "name": "ipython",
    "version": 3
   },
   "file_extension": ".py",
   "mimetype": "text/x-python",
   "name": "python",
   "nbconvert_exporter": "python",
   "pygments_lexer": "ipython3",
   "version": "3.10.8"
  }
 },
 "nbformat": 4,
 "nbformat_minor": 5
}
