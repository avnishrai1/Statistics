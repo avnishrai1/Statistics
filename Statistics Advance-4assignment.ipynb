{
 "cells": [
  {
   "cell_type": "markdown",
   "id": "2664ec82-6f21-42d8-ac6c-577052e7cfdc",
   "metadata": {},
   "source": [
    "# Q1: What is the difference between a t-test and a z-test? Provide an example scenario where you would use each type of test."
   ]
  },
  {
   "cell_type": "markdown",
   "id": "5c144fc0-3e49-419b-96c4-d3620d24ada2",
   "metadata": {},
   "source": [
    "The main difference is that a t-test is used when you don't know the population standard deviation and typically for smaller sample sizes, while a z-test is used when the population standard deviation is known or for larger samples.\n",
    "\n",
    "Example scenario for a t-test: Testing if a new drug's effectiveness differs from a placebo in a clinical trial with a small sample size.\n",
    "\n",
    "Example scenario for a z-test: Comparing the mean exam scores of two large classes to see if one class performs significantly better than the other."
   ]
  },
  {
   "cell_type": "markdown",
   "id": "a349adad-efc1-4b05-a422-6eca389203cd",
   "metadata": {},
   "source": [
    "# Q2: Differentiate between one-tailed and two-tailed tests."
   ]
  },
  {
   "cell_type": "markdown",
   "id": "2ab305a8-e53e-443a-9c1f-eeebe84d115f",
   "metadata": {},
   "source": [
    "In hypothesis testing:\n",
    "\n",
    "A one-tailed test (also called a one-sided test) is used when you have a specific directional hypothesis. It assesses if a sample statistic is significantly greater than or less than a population parameter, but not both. The critical region is located entirely on one side of the distribution.\n",
    "\n",
    "A two-tailed test is used when you have a non-directional hypothesis, and you want to assess if a sample statistic significantly differs from a population parameter in either direction (greater or less than). The critical region is split into two parts, one on each side of the distribution.\n",
    "\n",
    "For example:\n",
    "\n",
    "One-tailed test: Testing if a new drug increases the average test scores of students.\n",
    "Two-tailed test: Testing if a coin is biased, leading to either more heads or more tails in coin flips compared to a fair coin."
   ]
  },
  {
   "cell_type": "markdown",
   "id": "ec657e45-bdbe-4480-9570-4401e18cbcfd",
   "metadata": {},
   "source": [
    "# Q3: Explain the concept of Type 1 and Type 2 errors in hypothesis testing. Provide an example scenario for each type of error."
   ]
  },
  {
   "cell_type": "markdown",
   "id": "fd8a9a27-c6ae-4351-80e9-16f6e351c18f",
   "metadata": {},
   "source": [
    "Type I Error (False Positive): This occurs when you mistakenly reject a null hypothesis that is actually true. In other words, you conclude that there is an effect or difference when there isn't one.\n",
    "\n",
    "Example Scenario: A medical test falsely indicates that a healthy person has a disease.\n",
    "\n",
    "Type II Error (False Negative): This occurs when you fail to reject a null hypothesis that is actually false. In other words, you conclude that there is no effect or difference when there is one.\n",
    "\n",
    "Example Scenario: A medical test fails to detect a disease in a person who actually has it.\n",
    "\n",
    "These errors highlight the trade-off in hypothesis testing. To reduce the risk of one type of error, you often increase the risk of the other. It's crucial to choose an appropriate significance level and conduct power analysis to balance the risks based on the specific context and consequences of the errors."
   ]
  },
  {
   "cell_type": "markdown",
   "id": "a28bd74c-afe6-4738-92f6-af78ea732a1c",
   "metadata": {},
   "source": [
    "# Q4: Explain Bayes's theorem with an example."
   ]
  },
  {
   "cell_type": "markdown",
   "id": "728a57a4-9f59-4e3f-bf13-45bd5a9d956f",
   "metadata": {},
   "source": [
    "Bayes’ Theorem is named after Reverend Thomas Bayes. It is a very important theorem in mathematics that is used to find the probability of an event, based on prior knowledge of conditions that might be related to that event. It is a further case of conditional probability. For example, There are 3 bags, each containing some white marble and some black marble in each bag. If a white marble is drawn at random. What is the probability to find that this white marble is from the first bag? In cases like such, we use Bayes’ Theorem. It is used where the probability of occurrence of a particular event is calculated based on other conditions which are also called conditional probability.\n",
    "\n",
    "P(A|B) = P(B|A)P(A) / P(B)\n",
    "\n",
    "where,\n",
    "P(A) and P(B) are the probabilities of events A and B\n",
    "P(A|B) is the probability of event A when event B happens\n",
    "P(B|A) is the probability of event B when A happens\n",
    "\n",
    "Examples of Bayes’ Theorem\n",
    "Bayesian inference is very important and has found application in various activities, including medicine, science, philosophy, engineering, sports, law, etc. and Bayesian inference is directly derived from Bayes’ theorem. Example: Bayes’ theorem defines the accuracy of the medical test by taking into account how likely a person is to have a disease and what is the overall accuracy of the test."
   ]
  },
  {
   "cell_type": "markdown",
   "id": "827df9bb-cd49-496e-8cb7-01df85d454fd",
   "metadata": {},
   "source": [
    "# Q5: What is a confidence interval? How to calculate the confidence interval, explain with an example."
   ]
  },
  {
   "cell_type": "markdown",
   "id": "13106977-8623-4853-8551-8c948cac48f1",
   "metadata": {},
   "source": [
    "A confidence interval is a range of values that is constructed around a sample statistic (such as a mean or proportion) to provide an estimate of where the true population parameter is likely to fall, along with a certain level of confidence. It quantifies the uncertainty associated with estimating a population parameter based on a sample.\n",
    "\n",
    "To calculate a confidence interval, you typically need the following information:\n",
    "\n",
    "The sample statistic (e.g., sample mean or proportion).\n",
    "The standard error of the sample statistic (a measure of how much it tends to vary).\n",
    "The desired level of confidence (often expressed as a percentage, like 95% or 99%).\n",
    "The formula for calculating a confidence interval for a sample mean, for example, is:\n",
    "\n",
    "Confidence Interval\n",
    "=\n",
    "Sample Mean\n",
    "±\n",
    "Margin of Error\n",
    "Confidence Interval=Sample Mean±Margin of Error\n",
    "\n",
    "Where the Margin of Error is determined by the standard error of the mean and the critical value from the t-distribution or z-distribution based on the desired level of confidence."
   ]
  },
  {
   "cell_type": "markdown",
   "id": "b80cf3ad-c94c-4ae5-9b80-cd9fdfaf28ad",
   "metadata": {},
   "source": [
    "# Q6. Use Bayes' Theorem to calculate the probability of an event occurring given prior knowledge of the event's probability and new evidence. Provide a sample problem and solution."
   ]
  },
  {
   "cell_type": "markdown",
   "id": "55a93251-3d0f-42e4-8516-dce5b416a750",
   "metadata": {},
   "source": [
    "Prior Probability: Initially, there's a 50% chance of drawing a red card because half of the deck is red (hearts and diamonds).\n",
    "New Evidence: You draw a face card.\n",
    "Using Bayes' Theorem, you find that the probability of drawing a red card, given that it's a face card, is 75%."
   ]
  },
  {
   "cell_type": "markdown",
   "id": "a542dcb4-1316-48c4-88b3-98f1a922db5e",
   "metadata": {},
   "source": [
    "# Q7. Calculate the 95% confidence interval for a sample of data with a mean of 50 and a standard deviation of 5. Interpret the results."
   ]
  },
  {
   "cell_type": "code",
   "execution_count": 1,
   "id": "15ca363a-0d48-4950-a003-4b51641984a1",
   "metadata": {},
   "outputs": [
    {
     "name": "stdout",
     "output_type": "stream",
     "text": [
      "95% Confidence Interval: (48.13, 51.87)\n"
     ]
    }
   ],
   "source": [
    "import scipy.stats as stats\n",
    "\n",
    "# Sample mean and standard deviation\n",
    "sample_mean = 50\n",
    "std_dev = 5\n",
    "\n",
    "# Sample size (you need to specify this)\n",
    "sample_size = 30  # Replace with your actual sample size\n",
    "\n",
    "# Calculate the standard error\n",
    "standard_error = std_dev / (sample_size ** 0.5)\n",
    "\n",
    "# Set the confidence level and degrees of freedom (for a normal distribution)\n",
    "confidence_level = 0.95\n",
    "degrees_of_freedom = sample_size - 1\n",
    "\n",
    "# Calculate the margin of error using the t-distribution\n",
    "margin_of_error = stats.t.ppf((1 + confidence_level) / 2, df=degrees_of_freedom) * standard_error\n",
    "\n",
    "# Calculate the confidence interval\n",
    "lower_bound = sample_mean - margin_of_error\n",
    "upper_bound = sample_mean + margin_of_error\n",
    "\n",
    "print(f\"95% Confidence Interval: ({lower_bound:.2f}, {upper_bound:.2f})\")"
   ]
  },
  {
   "cell_type": "markdown",
   "id": "c2d56dc5-03c6-405e-abcd-2e00c85afcfa",
   "metadata": {},
   "source": [
    "# Q8. What is the margin of error in a confidence interval? How does sample size affect the margin of error? Provide an example of a scenario where a larger sample size would result in a smaller margin of error."
   ]
  },
  {
   "cell_type": "markdown",
   "id": "220a7c88-5742-47ec-9168-ca40af5a86f9",
   "metadata": {},
   "source": [
    "The margin of error in a confidence interval is a measure of the range within which the true population parameter is likely to fall, based on a sample statistic. It quantifies the uncertainty associated with estimating the population parameter from a sample.\n",
    "\n",
    "The margin of error is influenced by several factors, including:\n",
    "\n",
    "Sample Size: Larger sample sizes tend to result in smaller margins of error. As the sample size increases, the sample statistic (e.g., sample mean) becomes a more accurate estimate of the population parameter, reducing uncertainty.\n",
    "\n",
    "Standard Deviation: A larger standard deviation in the population tends to result in a larger margin of error because it indicates greater variability within the population.\n",
    "\n",
    "Confidence Level: Higher confidence levels (e.g., 95% vs. 99%) result in larger margins of error because you are widening the range to be more certain that it contains the true parameter.\n",
    "\n",
    "Here's an example to illustrate how a larger sample size leads to a smaller margin of error:\n",
    "\n",
    "Suppose you want to estimate the average test score of students in a school. You have two scenarios:\n",
    "\n",
    "Scenario 1 (Smaller Sample Size):\n",
    "\n",
    "Sample Size (n1) = 30 students\n",
    "Standard Deviation (σ) = 10 points\n",
    "Scenario 2 (Larger Sample Size):\n",
    "\n",
    "Sample Size (n2) = 300 students\n",
    "Standard Deviation (σ) = 10 points (same as in Scenario 1)\n",
    "In both scenarios, you use the same standard deviation (σ) because you assume the population variability is the same. However, in Scenario 2, you have a much larger sample size (10 times larger) compared to Scenario 1.\n",
    "\n",
    "The margin of error for a 95% confidence interval in Scenario 1 might be, for example, 3 points, while in Scenario 2, it might be only 1 point. The larger sample size in Scenario 2 provides a more precise estimate of the population mean, resulting in a smaller margin of error and a more accurate confidence interval."
   ]
  },
  {
   "cell_type": "markdown",
   "id": "6508d332-1713-4321-a489-22ceacdb5c57",
   "metadata": {},
   "source": [
    "# Q9. Calculate the z-score for a data point with a value of 75, a population mean of 70, and a population standard deviation of 5. Interpret the results."
   ]
  },
  {
   "cell_type": "code",
   "execution_count": 2,
   "id": "b88f7546-84f6-4c71-99b9-855ed90818f4",
   "metadata": {},
   "outputs": [
    {
     "name": "stdout",
     "output_type": "stream",
     "text": [
      "Z-score: 1.00\n"
     ]
    }
   ],
   "source": [
    "# Given data\n",
    "data_point = 75\n",
    "population_mean = 70\n",
    "population_std_dev = 5\n",
    "\n",
    "# Calculate the z-score\n",
    "z_score = (data_point - population_mean) / population_std_dev\n",
    "\n",
    "print(f\"Z-score: {z_score:.2f}\")"
   ]
  },
  {
   "cell_type": "markdown",
   "id": "3958cb1a-9def-4943-8ec9-7ed62dc3e3d2",
   "metadata": {},
   "source": [
    "# Q10. In a study of the effectiveness of a new weight loss drug, a sample of 50 participants lost an average of 6 pounds with a standard deviation of 2.5 pounds. Conduct a hypothesis test to determine if the drug is significantly effective at a 95% confidence level using a t-test."
   ]
  },
  {
   "cell_type": "code",
   "execution_count": 3,
   "id": "618d61f2-3bf7-4606-93bf-32c582647e5b",
   "metadata": {},
   "outputs": [
    {
     "name": "stdout",
     "output_type": "stream",
     "text": [
      "Reject the null hypothesis. The drug is significantly effective.\n",
      "t-statistic: 16.97\n",
      "p-value: 0.0000\n"
     ]
    }
   ],
   "source": [
    "import scipy.stats as stats\n",
    "\n",
    "# Given data\n",
    "sample_mean = 6\n",
    "sample_std_dev = 2.5\n",
    "sample_size = 50\n",
    "confidence_level = 0.95\n",
    "\n",
    "# Define hypotheses\n",
    "null_hypothesis_mean = 0  # Null hypothesis: Mean weight loss is zero or negligible\n",
    "\n",
    "# Calculate the standard error of the mean\n",
    "standard_error = sample_std_dev / (sample_size ** 0.5)\n",
    "\n",
    "# Calculate the t-statistic\n",
    "t_statistic = (sample_mean - null_hypothesis_mean) / standard_error\n",
    "\n",
    "# Calculate the degrees of freedom\n",
    "degrees_of_freedom = sample_size - 1\n",
    "\n",
    "# Calculate the p-value\n",
    "p_value = 2 * (1 - stats.t.cdf(abs(t_statistic), df=degrees_of_freedom))\n",
    "\n",
    "# Check if the p-value is less than alpha (0.05 for a 95% confidence level)\n",
    "alpha = 0.05\n",
    "if p_value < alpha:\n",
    "    print(\"Reject the null hypothesis. The drug is significantly effective.\")\n",
    "else:\n",
    "    print(\"Fail to reject the null hypothesis. The drug is not significantly effective.\")\n",
    "\n",
    "print(f\"t-statistic: {t_statistic:.2f}\")\n",
    "print(f\"p-value: {p_value:.4f}\")"
   ]
  },
  {
   "cell_type": "markdown",
   "id": "69b6b3c0-3eef-4326-972a-f8719a2b5c0b",
   "metadata": {},
   "source": [
    "# Q11. In a survey of 500 people, 65% reported being satisfied with their current job. Calculate the 95% confidence interval for the true proportion of people who are satisfied with their job."
   ]
  },
  {
   "cell_type": "code",
   "execution_count": 4,
   "id": "ec277970-3db2-4dda-bc2b-bed3d227c3cc",
   "metadata": {},
   "outputs": [
    {
     "name": "stdout",
     "output_type": "stream",
     "text": [
      "95% Confidence Interval: (0.6082, 0.6918)\n"
     ]
    }
   ],
   "source": [
    "import scipy.stats as stats\n",
    "\n",
    "# Given data\n",
    "sample_proportion = 0.65  # 65% satisfaction rate\n",
    "sample_size = 500\n",
    "confidence_level = 0.95\n",
    "\n",
    "# Calculate the critical value (Z) for a 95% confidence level\n",
    "z_critical = stats.norm.ppf((1 + confidence_level) / 2)\n",
    "\n",
    "# Calculate the margin of error\n",
    "margin_of_error = z_critical * ((sample_proportion * (1 - sample_proportion)) / sample_size) ** 0.5\n",
    "\n",
    "# Calculate the confidence interval\n",
    "lower_bound = sample_proportion - margin_of_error\n",
    "upper_bound = sample_proportion + margin_of_error\n",
    "\n",
    "print(f\"95% Confidence Interval: ({lower_bound:.4f}, {upper_bound:.4f})\")"
   ]
  },
  {
   "cell_type": "markdown",
   "id": "8c6ebbb2-6e26-4165-8661-768491d1f1a7",
   "metadata": {},
   "source": [
    "# Q12. A researcher is testing the effectiveness of two different teaching methods on student performance. Sample A has a mean score of 85 with a standard deviation of 6, while sample B has a mean score of 82 with a standard deviation of 5. Conduct a hypothesis test to determine if the two teaching methods have a significant difference in student performance using a t-test with a significance level of 0.01."
   ]
  },
  {
   "cell_type": "code",
   "execution_count": 5,
   "id": "38e9fa69-0b8b-4ac9-b7b1-d4a45e4da51c",
   "metadata": {},
   "outputs": [
    {
     "name": "stdout",
     "output_type": "stream",
     "text": [
      "Fail to reject the null hypothesis. There is no significant difference in student performance.\n",
      "t-statistic: 2.10\n",
      "p-value: 0.0397\n"
     ]
    }
   ],
   "source": [
    "import scipy.stats as stats\n",
    "\n",
    "# Given data for Sample A\n",
    "mean_A = 85\n",
    "std_dev_A = 6\n",
    "sample_size_A = 30  # Replace with your actual sample size for Sample A\n",
    "\n",
    "# Given data for Sample B\n",
    "mean_B = 82\n",
    "std_dev_B = 5\n",
    "sample_size_B = 30  # Replace with your actual sample size for Sample B\n",
    "\n",
    "# Set the significance level\n",
    "alpha = 0.01\n",
    "\n",
    "# Calculate the pooled standard error\n",
    "pooled_std_error = ((std_dev_A ** 2 / sample_size_A) + (std_dev_B ** 2 / sample_size_B)) ** 0.5\n",
    "\n",
    "# Calculate the t-statistic\n",
    "t_statistic = (mean_A - mean_B) / pooled_std_error\n",
    "\n",
    "# Calculate the degrees of freedom\n",
    "degrees_of_freedom = sample_size_A + sample_size_B - 2\n",
    "\n",
    "# Calculate the p-value\n",
    "p_value = 2 * (1 - stats.t.cdf(abs(t_statistic), df=degrees_of_freedom))\n",
    "\n",
    "# Compare the p-value to the significance level\n",
    "if p_value < alpha:\n",
    "    print(\"Reject the null hypothesis. There is a significant difference in student performance.\")\n",
    "else:\n",
    "    print(\"Fail to reject the null hypothesis. There is no significant difference in student performance.\")\n",
    "\n",
    "print(f\"t-statistic: {t_statistic:.2f}\")\n",
    "print(f\"p-value: {p_value:.4f}\")"
   ]
  },
  {
   "cell_type": "markdown",
   "id": "7dffa616-7fca-4dbf-a0c4-f2820bec56ab",
   "metadata": {},
   "source": [
    "# Q13. A population has a mean of 60 and a standard deviation of 8. A sample of 50 observations has a mean of 65. Calculate the 90% confidence interval for the true population mean."
   ]
  },
  {
   "cell_type": "code",
   "execution_count": 6,
   "id": "22efe7a8-fc5d-4b27-9ae5-ffd547429fb0",
   "metadata": {},
   "outputs": [
    {
     "name": "stdout",
     "output_type": "stream",
     "text": [
      "90% Confidence Interval: (63.14, 66.86)\n"
     ]
    }
   ],
   "source": [
    "import scipy.stats as stats\n",
    "\n",
    "# Given data\n",
    "sample_mean = 65\n",
    "population_mean = 60\n",
    "population_std_dev = 8\n",
    "sample_size = 50\n",
    "confidence_level = 0.90\n",
    "\n",
    "# Calculate the critical value (Z) for a 90% confidence level\n",
    "z_critical = stats.norm.ppf((1 + confidence_level) / 2)\n",
    "\n",
    "# Calculate the margin of error\n",
    "margin_of_error = z_critical * (population_std_dev / (sample_size ** 0.5))\n",
    "\n",
    "# Calculate the confidence interval\n",
    "lower_bound = sample_mean - margin_of_error\n",
    "upper_bound = sample_mean + margin_of_error\n",
    "\n",
    "print(f\"90% Confidence Interval: ({lower_bound:.2f}, {upper_bound:.2f})\")"
   ]
  },
  {
   "cell_type": "markdown",
   "id": "683a0e99-be43-48ea-9c68-13cee13b4c2b",
   "metadata": {},
   "source": [
    "# Q14. In a study of the effects of caffeine on reaction time, a sample of 30 participants had an average reaction time of 0.25 seconds with a standard deviation of 0.05 seconds. Conduct a hypothesis test to determine if the caffeine has a significant effect on reaction time at a 90% confidence level using a t-test."
   ]
  },
  {
   "cell_type": "code",
   "execution_count": 7,
   "id": "13fd5275-dede-4f19-a037-23310cf55231",
   "metadata": {},
   "outputs": [
    {
     "name": "stdout",
     "output_type": "stream",
     "text": [
      "Reject the null hypothesis. Caffeine has a significant effect on reaction time.\n",
      "t-statistic: 27.39\n",
      "p-value: 0.0000\n"
     ]
    }
   ],
   "source": [
    "import scipy.stats as stats\n",
    "\n",
    "# Given data\n",
    "sample_mean = 0.25\n",
    "sample_std_dev = 0.05\n",
    "sample_size = 30\n",
    "population_mean = 0  # Assuming the null hypothesis that caffeine has no effect\n",
    "\n",
    "# Set the significance level\n",
    "alpha = 0.10  # 90% confidence level, so alpha = 0.10 (1 - 0.90)\n",
    "\n",
    "# Calculate the standard error of the mean\n",
    "standard_error = sample_std_dev / (sample_size ** 0.5)\n",
    "\n",
    "# Calculate the t-statistic\n",
    "t_statistic = (sample_mean - population_mean) / standard_error\n",
    "\n",
    "# Calculate the degrees of freedom\n",
    "degrees_of_freedom = sample_size - 1\n",
    "\n",
    "# Calculate the p-value for a one-tailed test (since we're testing if caffeine has an effect)\n",
    "p_value = 1 - stats.t.cdf(abs(t_statistic), df=degrees_of_freedom)\n",
    "\n",
    "# Compare the p-value to the significance level\n",
    "if p_value < alpha:\n",
    "    print(\"Reject the null hypothesis. Caffeine has a significant effect on reaction time.\")\n",
    "else:\n",
    "    print(\"Fail to reject the null hypothesis. Caffeine does not have a significant effect on reaction time.\")\n",
    "\n",
    "print(f\"t-statistic: {t_statistic:.2f}\")\n",
    "print(f\"p-value: {p_value:.4f}\")"
   ]
  },
  {
   "cell_type": "code",
   "execution_count": null,
   "id": "0ccc5d43-1ab5-4bab-a30b-58df24359471",
   "metadata": {},
   "outputs": [],
   "source": []
  }
 ],
 "metadata": {
  "kernelspec": {
   "display_name": "Python 3 (ipykernel)",
   "language": "python",
   "name": "python3"
  },
  "language_info": {
   "codemirror_mode": {
    "name": "ipython",
    "version": 3
   },
   "file_extension": ".py",
   "mimetype": "text/x-python",
   "name": "python",
   "nbconvert_exporter": "python",
   "pygments_lexer": "ipython3",
   "version": "3.10.8"
  }
 },
 "nbformat": 4,
 "nbformat_minor": 5
}
