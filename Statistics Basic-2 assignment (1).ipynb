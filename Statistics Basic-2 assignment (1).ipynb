{
 "cells": [
  {
   "cell_type": "markdown",
   "id": "b18fcd1c-171e-43bf-b124-98519b310be6",
   "metadata": {},
   "source": [
    "## Q1. What are the three measures of central tendency"
   ]
  },
  {
   "cell_type": "markdown",
   "id": "7d80eeaf-1195-4a58-8e07-975a3e9a4e23",
   "metadata": {},
   "source": [
    "Ans.Mean: This is the average of all the numbers in a group. You add up all the numbers and then divide by how many there are.\n",
    "    Median: This is the middle number when you put all the numbers in order. If there's an even number of numbers, you take the average of the two               middle ones.\n",
    "    Mode: This is the number that appears most often in a group of numbers. It's the one that shows up the most times."
   ]
  },
  {
   "cell_type": "markdown",
   "id": "4bc60a76-5091-4370-a2ba-39d644efae6b",
   "metadata": {},
   "source": [
    "## Q2. What is the difference between the mean, median, and mode? How are they used to measure the central tendency of a dataset?"
   ]
  },
  {
   "cell_type": "markdown",
   "id": "921a3970-ac9f-406a-be00-c2f338acbeb2",
   "metadata": {},
   "source": [
    "Ans.\n",
    "    Mean: The mean is like the \"average\" we use in everyday language. You add up all the numbers in a dataset and then divide by how many numbers \n",
    "          there are. It's useful when you want to find the balance point or typical value of a dataset. However, it can be sensitive to very large \n",
    "          or very small numbers (outliers).\n",
    "          \n",
    "    Median: The median is the middle number when all the numbers are put in order. If there's an even number of numbers, you take the average\n",
    "            of the two middle ones. The median is helpful when you want to find the middle value that separates the higher half from the lower half               of the dataset. It's less affected by outliers.\n",
    "            \n",
    "    Mode: The mode is the number that appears most often in a dataset. It tells you which value occurs most frequently. The mode is used when you \n",
    "          want to know the most common value in your data.\n",
    "          \n",
    "          \n",
    "    So, in simple terms:\n",
    "    Mean gives you the average or typical value.\n",
    "    Median gives you the middle value.\n",
    "    Mode gives you the most common value.\n",
    "    \n",
    "    These measures help us understand where the data tends to cluster or concentrate, which is why they are called measures of central tendency. \n",
    "    Depending on the dataset and what you want to know, you might choose to use one or more of these measures.\n",
    "                  "
   ]
  },
  {
   "cell_type": "markdown",
   "id": "24f6b351-970e-4adb-8d91-f8404d177646",
   "metadata": {},
   "source": [
    "## Q3. Measure the three measures of central tendency for the given height data:\n",
    "## [178,177,176,177,178.2,178,175,179,180,175,178.9,176.2,177,172.5,178,176.5]"
   ]
  },
  {
   "cell_type": "markdown",
   "id": "9b208c51-b3cb-4ec8-b865-6ca1c1798333",
   "metadata": {},
   "source": [
    "Ans.\n",
    "    Height Data: [178, 177, 176, 177, 178.2, 178, 175, 179, 180, 175, 178.9, 176.2, 177, 172.5, 178, 176.5]\n",
    "    \n",
    "    Mean (Average):\n",
    "    To find the mean, add up all the heights and then divide by the total number of heights.\n",
    "    Mean = (178 + 177 + 176 + 177 + 178.2 + 178 + 175 + 179 + 180 + 175 + 178.9 + 176.2 + 177 + 172.5 + 178 + 176.5) / 16 ≈ 177.05\n",
    "    \n",
    "    Median (Middle Value):\n",
    "    To find the median, first, arrange the heights in ascending order:\n",
    "    [172.5, 175, 175, 176, 176, 176.2, 177, 177, 177, 178, 178, 178, 178, 178.2, 179, 180]\n",
    "    Since there are 16 values (an even number), we take the average of the two middle values, which are the 8th and 9th values:\n",
    "    Median = (177 + 177) / 2 = 177 \n",
    "    \n",
    "    Mode (Most Common Value):\n",
    "    The mode is the height that appears most often. In this dataset, the height 178 appears the most times (5 times), so it's the mode.\n",
    "    So, the mode height is 178."
   ]
  },
  {
   "cell_type": "markdown",
   "id": "656efe4d-bb85-4cf8-b313-25a0548e1da2",
   "metadata": {},
   "source": [
    "## Q4. Find the standard deviation for the given data:\n",
    "## [178,177,176,177,178.2,178,175,179,180,175,178.9,176.2,177,172.5,178,176.5]"
   ]
  },
  {
   "cell_type": "code",
   "execution_count": 2,
   "id": "04bda230-b93f-421c-adbd-c622035a9b39",
   "metadata": {},
   "outputs": [
    {
     "name": "stdout",
     "output_type": "stream",
     "text": [
      "Standard Deviation: 1.7885814036548633\n"
     ]
    }
   ],
   "source": [
    "import numpy as np\n",
    "\n",
    "data = [178, 177, 176, 177, 178.2, 178, 175, 179, 180, 175, 178.9, 176.2, 177, 172.5, 178, 176.5]\n",
    "\n",
    "# Calculate the standard deviation\n",
    "std_deviation = np.std(data)\n",
    "\n",
    "print(\"Standard Deviation:\", std_deviation)\n"
   ]
  },
  {
   "cell_type": "markdown",
   "id": "9542c6d3-07fa-4d44-ab2a-0d91db6b996d",
   "metadata": {},
   "source": [
    "## Q5. How are measures of dispersion such as range, variance, and standard deviation used to describe the spread of a dataset? Provide an example."
   ]
  },
  {
   "cell_type": "markdown",
   "id": "15e907d1-a871-4a61-8f3f-acee55216c5f",
   "metadata": {},
   "source": [
    "Ans.Measures of dispersion, such as range, variance, and standard deviation, are used to describe how spread out or variable the data points are in a     dataset. They provide information about the extent to which the data values deviate from the central tendency (e.g., mean, median). Here's how       each of these measures is used and an example:\n",
    "\n",
    "    Range:\n",
    "    Description: The range measures the spread by calculating the difference between the maximum and minimum values in the dataset.\n",
    "    Use: It gives you a sense of how much the data values vary from the lowest to the highest values.\n",
    "    Example: Consider a dataset of test scores for a class: [70, 85, 60, 92, 78]. The range is 92 (highest score) - 60 (lowest score) = 32. This                  means the test scores vary by 32 points.\n",
    "    \n",
    "    Variance:\n",
    "    Description: Variance quantifies the average squared difference between each data point and the mean of the dataset.\n",
    "    Use: It provides a measure of how spread out the data is, with larger variance indicating greater variability.\n",
    "    Example: Take a dataset of daily temperatures in degrees Celsius: [25, 28, 23, 30, 27]. The variance is calculated, and if it's, say, 6, it                    suggests that temperatures fluctuate by an average of 6 degrees from the mean.\n",
    "    \n",
    "    \n",
    "    Standard Deviation:\n",
    "    Description: The standard deviation is the square root of the variance. It measures the spread in the same units as the original data.\n",
    "    Use: It offers a more interpretable measure of spread than variance. A smaller standard deviation indicates less variability, while a larger one          suggests more variability.\n",
    "    Example: Continuing with the temperature data, if the standard deviation is approximately 2.45 degrees Celsius, it means the temperature values                are relatively close to the mean."
   ]
  },
  {
   "cell_type": "markdown",
   "id": "88bc05e3-643a-4e18-80a7-ecb6ad9477e7",
   "metadata": {
    "tags": []
   },
   "source": [
    "## Q6. What is a Venn diagram"
   ]
  },
  {
   "cell_type": "markdown",
   "id": "508be5fe-ebd3-42f2-846c-0eb26787a476",
   "metadata": {},
   "source": [
    "A Venn diagram is a visual representation used to show the relationships between sets or groups of objects, elements, or concepts. It consists of overlapping circles, each representing a different set, with the areas of overlap showing the elements that belong to more than one set. Venn diagrams are commonly used in mathematics, logic, statistics, and various fields to illustrate and analyze the relationships and intersections between different categories or groups.\n",
    "\n",
    "Key characteristics of a Venn diagram:\n",
    "\n",
    "Circles: Each circle in a Venn diagram represents a specific set or category. The sets can have overlapping or non-overlapping regions, depending on the relationships being illustrated.\n",
    "\n",
    "Overlapping Areas: The overlapping regions, where circles intersect, indicate elements that belong to multiple sets. The size of these areas can vary to represent the relative size or importance of the intersections.\n",
    "\n",
    "Non-overlapping Areas: The parts of the circles that do not overlap with any other circle represent elements that belong exclusively to that particular set."
   ]
  },
  {
   "cell_type": "markdown",
   "id": "94cc1048-070f-47bc-9ba4-0aa884836ab6",
   "metadata": {
    "tags": []
   },
   "source": [
    "## Q7. For the two given sets A = (2,3,4,5,6,7) & B = (0,2,6,8,10). Find:\n",
    "## (i) \tA intersection B\n",
    "## (ii)\tA ⋃ B"
   ]
  },
  {
   "cell_type": "markdown",
   "id": "fc6f4536-1db1-43cf-aee4-824ca9c9c9f8",
   "metadata": {},
   "source": [
    "Given sets:\n",
    "A = {2, 3, 4, 5, 6, 7}\n",
    "B = {0, 2, 6, 8, 10}\n",
    "\n",
    "Common elements between A and B:\n",
    "A ∩ B = {2, 6}\n",
    "\n",
    "Combine all elements from A and B without duplicates:\n",
    "A ⋃ B = {0, 2, 3, 4, 5, 6, 7, 8, 10}"
   ]
  },
  {
   "cell_type": "code",
   "execution_count": 3,
   "id": "b0acdf0a-3fd3-4ac6-9334-31a70130dd02",
   "metadata": {},
   "outputs": [
    {
     "name": "stdout",
     "output_type": "stream",
     "text": [
      "Intersection of A and B: [2 6]\n",
      "Union of A and B: [ 0  2  3  4  5  6  7  8 10]\n"
     ]
    }
   ],
   "source": [
    "import numpy as np\n",
    "\n",
    "A = np.array([2, 3, 4, 5, 6, 7])\n",
    "B = np.array([0, 2, 6, 8, 10])\n",
    "\n",
    "intersection = np.intersect1d(A, B)\n",
    "print(\"Intersection of A and B:\", intersection)\n",
    "\n",
    "union = np.union1d(A, B)\n",
    "print(\"Union of A and B:\", union)"
   ]
  },
  {
   "cell_type": "markdown",
   "id": "a2522baf-9cb9-4a3b-bd38-3603509842cf",
   "metadata": {},
   "source": [
    "## Q8. What do you understand about skewness in data"
   ]
  },
  {
   "cell_type": "markdown",
   "id": "2ab54c52-3a1b-4b15-8762-3b07c7e0acae",
   "metadata": {},
   "source": [
    "Skewness in data refers to the measure of the asymmetry or lack of symmetry in the distribution of data points in a dataset. It is a crucial concept in statistics and data analysis as it helps us understand the shape and characteristics of data distributions. Skewness provides information about the direction and extent to which data values are spread out to the left (negatively skewed) or to the right (positively skewed) of the central tendency (mean, median).\n",
    "\n",
    "Here are the key points to understand about skewness in data:\n",
    "\n",
    "Symmetry: A perfectly symmetric distribution has data values evenly distributed on both sides of the mean, resulting in a skewness of 0. In real-world datasets, perfect symmetry is rare.\n",
    "\n",
    "Negatively Skewed (Left-Skewed): When the tail of the distribution extends more to the left (towards lower values) than to the right, the data is said to be negatively skewed. In a negatively skewed distribution, the mean is typically less than the median.\n",
    "\n",
    "Positively Skewed (Right-Skewed): When the tail of the distribution extends more to the right (towards higher values) than to the left, the data is said to be positively skewed. In a positively skewed distribution, the mean is typically greater than the median.\n",
    "\n",
    "Magnitude of Skewness: The magnitude of skewness is measured using statistical measures such as the skewness coefficient. A positive skewness coefficient indicates positive skewness, while a negative coefficient indicates negative skewness. The larger the magnitude of the coefficient, the more pronounced the skewness.\n",
    "\n",
    "Real-World Applications: Understanding skewness is essential in various fields, including finance, economics, biology, and social sciences. For example, in finance, the distribution of stock returns can be positively skewed, indicating that extreme positive returns are less frequent but have a significant impact when they occur."
   ]
  },
  {
   "cell_type": "markdown",
   "id": "eae61493-4266-4909-aecd-95ff651fca4f",
   "metadata": {},
   "source": [
    "## Q9. If a data is right skewed then what will be the position of median with respect to mean?"
   ]
  },
  {
   "cell_type": "raw",
   "id": "bdbd51a4-ee9b-48d5-a69c-fba18d002ccf",
   "metadata": {},
   "source": [
    "In a right-skewed distribution (positively skewed), the position of the median with respect to the mean is as follows:\n",
    "\n",
    "The median is typically less than the mean.\n",
    "\n",
    "Here's why:\n",
    "Right Skew: Right-skewed distributions have a longer right tail, which means that there are relatively few extreme values on the right side (higher values) that can pull the mean in that direction.\n",
    "\n",
    "Median: The median represents the middle value of the dataset when the data is arranged in order. In a right-skewed distribution, the bulk of the data points are concentrated on the left side (lower values) of the distribution, closer to the tail. Therefore, the median is often closer to the left side of the distribution, where most of the data points are located.\n",
    "\n",
    "Mean: The mean, on the other hand, can be influenced by the presence of those relatively few extreme values on the right side of the distribution. These extreme values, which contribute more significantly to the mean due to their larger magnitude, tend to pull the mean to the right (higher values)."
   ]
  },
  {
   "cell_type": "markdown",
   "id": "a971d427-8aba-46cd-9f42-64a55c38b1e8",
   "metadata": {},
   "source": [
    "## Q10. Explain the difference between covariance and correlation. How are these measures used in statistical analysis ?"
   ]
  },
  {
   "cell_type": "markdown",
   "id": "3fc9c640-8d4d-4db4-8d19-70cb2d39d299",
   "metadata": {},
   "source": [
    "Covariance and correlation are both measures used in statistics to quantify the relationship between two or more variables. However, they serve different purposes and have distinct characteristics:\n",
    "\n",
    "Covariance:\n",
    "Definition: Covariance is a measure that indicates the extent to which two variables change together. It quantifies the direction of the linear relationship between variables.\n",
    "\n",
    "Range: The range of covariance values is unbounded, meaning it can take any real number.\n",
    "\n",
    "Units: The unit of covariance is a product of the units of the two variables being measured.\n",
    "\n",
    "Interpretation: Positive covariance indicates that as one variable increases, the other tends to increase, and as one decreases, the other tends to decrease. Negative covariance suggests that as one variable increases, the other tends to decrease.\n",
    "\n",
    "Scale Dependence: Covariance is scale-dependent, meaning it can be affected by the units of measurement of the variables. Different units can result in different covariance values.\n",
    "\n",
    "\n",
    "Correlation:\n",
    "Definition: Correlation is a standardized measure that indicates the strength and direction of the linear relationship between two variables. It's designed to be dimensionless, making it easier to compare relationships across different datasets.\n",
    "\n",
    "Range: The range of correlation values is from -1 to 1, where -1 represents a perfect negative linear relationship, 1 represents a perfect positive linear relationship, and 0 represents no linear relationship.\n",
    "\n",
    "Units: Correlation is unitless because it standardizes the covariance by dividing it by the product of the standard deviations of the two variables.\n",
    "\n",
    "Interpretation: A positive correlation indicates that as one variable increases, the other tends to increase, and vice versa. A negative correlation suggests that as one variable increases, the other tends to decrease.\n",
    "\n",
    "Scale Independence: Correlation is scale-independent, which means it is not affected by the units of measurement. It remains the same regardless of the units used.\n",
    "\n",
    "\n",
    "Use in Statistical Analysis:\n",
    "\n",
    "Covariance: Covariance is used to understand the direction of the relationship between two variables. However, its value is difficult to interpret on its own due to its unit dependence.\n",
    "Correlation: Correlation is widely used because it provides a standardized measure of the strength and direction of the linear relationship between variables. It is particularly valuable in comparing relationships across different datasets, and it helps in identifying the relative strength of relationships.\n",
    "In statistical analysis, both covariance and correlation are used for:\n",
    "\n",
    "Identifying the relationship between variables.\n",
    "Assessing the strength and direction of linear associations.\n",
    "Selecting variables for regression analysis and modeling.\n",
    "Understanding dependencies in multivariate datasets.\n",
    "Detecting potential issues like multicollinearity (high correlations) in regression analysis."
   ]
  },
  {
   "cell_type": "markdown",
   "id": "78a9a804-d755-4088-bd5a-9fc0ddf59388",
   "metadata": {},
   "source": [
    "## Q11. What is the formula for calculating the sample mean? Provide an example calculation for a dataset."
   ]
  },
  {
   "cell_type": "markdown",
   "id": "8c17a3e1-1782-4d3f-96c8-b835159596ab",
   "metadata": {},
   "source": [
    "The formula for calculating the sample mean (average) of a dataset is as follows:\n",
    "Sample Mean (X̄) = (Sum of all data points) / (Number of data points)\n",
    "To calculate the sample mean, you add up all the data points in your dataset and then divide the sum by the total number of data points.\n",
    "\n",
    "Here's an example calculation for a dataset:\n",
    "\n",
    "Dataset: [10, 15, 20, 25, 30]\n",
    "Add up all the data points: 10 + 15 + 20 + 25 + 30 = 100\n",
    "Count the number of data points in the dataset: There are 5 data points.\n",
    "\n",
    "Calculate the sample mean using the formula:\n",
    "Sample Mean (X̄) = 100 / 5 = 20\n",
    "\n",
    "So, the sample mean of the dataset [10, 15, 20, 25, 30] is 20."
   ]
  },
  {
   "cell_type": "markdown",
   "id": "0be0c58f-01fe-4aff-b24b-36eb0867b4b6",
   "metadata": {},
   "source": [
    "## Q12. For a normal distribution data what is the relationship between its measure of central tendency?"
   ]
  },
  {
   "cell_type": "markdown",
   "id": "b70a7159-ffbf-49cf-9cea-f45bfe092abb",
   "metadata": {},
   "source": [
    "In a normal distribution, also known as a Gaussian distribution, there is a specific relationship between its measures of central tendency, namely the mean, median, and mode. This relationship is one of perfect symmetry:\n",
    "\n",
    "Mean (μ): In a normal distribution, the mean (average) is located at the exact center of the distribution. It is the point of perfect symmetry. The mean is also equal to the median and the mode.\n",
    "\n",
    "Median (Median): The median of a normal distribution is also located at the exact center of the distribution, which coincides with the mean. This means that the median is equal to the mean.\n",
    "\n",
    "Mode (Mode): The mode of a normal distribution is the peak or highest point of the distribution, and it is also located at the exact center of the distribution. In a normal distribution, there is only one mode, and it is equal to both the mean and the median.\n",
    "\n",
    "In summary, for a normal distribution:\n",
    "\n",
    "Mean (μ) = Median = Mode\n",
    "\n",
    "This relationship is a unique characteristic of a perfectly symmetrical normal distribution. It's important to note that not all datasets or distributions exhibit this level of symmetry, and in practice, measures of central tendency can differ from each other when dealing with non-normal or skewed data."
   ]
  },
  {
   "cell_type": "markdown",
   "id": "876b8d4f-98b4-4893-85e6-b5954ffdfe9d",
   "metadata": {},
   "source": [
    "## Q13. How is covariance different from correlation ?"
   ]
  },
  {
   "cell_type": "markdown",
   "id": "668176ca-4652-444d-a288-dab7d5ca5438",
   "metadata": {},
   "source": [
    "Covariance measures the direction of the linear relationship between two variables but is unit-dependent and lacks standardized interpretation.\n",
    "\n",
    "Correlation measures both the strength and direction of the linear relationship between two variables, is unitless, and ranges from -1 to 1, making it easier to compare across datasets."
   ]
  },
  {
   "cell_type": "markdown",
   "id": "68deea4b-f804-4156-b8f9-67d0b8071e9d",
   "metadata": {},
   "source": [
    "## Q14. How do outliers affect measures of central tendency and dispersion? Provide an example."
   ]
  },
  {
   "cell_type": "markdown",
   "id": "c31b347f-a818-4888-b077-0fddd3bd81d6",
   "metadata": {},
   "source": [
    "Outliers can significantly affect measures of central tendency (mean, median, and mode) and measures of dispersion (range, variance, and standard deviation) in a dataset. Here's how outliers impact these measures, along with an example:\n",
    "\n",
    "Measures of Central Tendency:\n",
    "\n",
    "Mean: Outliers can disproportionately influence the mean because the mean is sensitive to extreme values. If you have one or more outliers that are much larger or smaller than the other data points, the mean can be pulled in the direction of the outliers.\n",
    "\n",
    "Example: Consider the dataset of test scores: [85, 90, 92, 93, 95, 15]. The mean without the outlier is (85 + 90 + 92 + 93 + 95) / 5 = 91, but with the outlier, it becomes (85 + 90 + 92 + 93 + 95 + 15) / 6 = 73.33.\n",
    "\n",
    "Median: The median is less affected by outliers because it only considers the middle value(s) in the ordered dataset. Outliers may not substantially shift the median unless they are very extreme and impact the order of values.\n",
    "\n",
    "Example: In the same dataset [85, 90, 92, 93, 95, 15], the median remains 92, even with the outlier.\n",
    "\n",
    "Mode: Outliers generally do not impact the mode because the mode is the most frequently occurring value(s) in the dataset. A single outlier is unlikely to change the mode.\n",
    "\n",
    "Example: In the dataset, the mode remains the same, which is not affected by the outlier.\n"
   ]
  },
  {
   "cell_type": "markdown",
   "id": "d375cfb7-b702-4afe-a317-285fd3953ae3",
   "metadata": {},
   "source": [
    "\n",
    "Measures of Dispersion:\n",
    "\n",
    "Range: Outliers can significantly affect the range because the range is simply the difference between the maximum and minimum values in the dataset. Extreme outliers can widen the range considerably.\n",
    "\n",
    "Example: In the dataset, the range without the outlier is 95 - 85 = 10, but with the outlier, it becomes 95 - 15 = 80.\n",
    "\n",
    "Variance and Standard Deviation: Outliers can substantially impact the variance and standard deviation because they involve the squared differences between data points and the mean. Outliers can lead to larger squared differences and, consequently, larger variance and standard deviation.\n",
    "\n",
    "Example: In the dataset, the variance and standard deviation are much larger when the outlier is included.\n"
   ]
  }
 ],
 "metadata": {
  "kernelspec": {
   "display_name": "Python 3 (ipykernel)",
   "language": "python",
   "name": "python3"
  },
  "language_info": {
   "codemirror_mode": {
    "name": "ipython",
    "version": 3
   },
   "file_extension": ".py",
   "mimetype": "text/x-python",
   "name": "python",
   "nbconvert_exporter": "python",
   "pygments_lexer": "ipython3",
   "version": "3.10.8"
  }
 },
 "nbformat": 4,
 "nbformat_minor": 5
}
