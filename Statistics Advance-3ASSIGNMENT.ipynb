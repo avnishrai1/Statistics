{
 "cells": [
  {
   "cell_type": "markdown",
   "id": "a6d49a1c-2a9a-4fc2-9345-0f16bca7681b",
   "metadata": {},
   "source": [
    "# Q1: What is Estimation Statistics? Explain point estimate and interval estimate."
   ]
  },
  {
   "cell_type": "markdown",
   "id": "bca3686e-0583-4de5-8b5d-de5b80674f3f",
   "metadata": {},
   "source": [
    "Estimation in statistics involves making educated guesses about population parameters based on sample data. There are two main types:\n",
    "\n",
    "Point Estimate: A single value that's our best guess for the parameter.\n",
    "\n",
    "Interval Estimate: A range of values within which we believe the parameter is likely to fall, along with a level of confidence."
   ]
  },
  {
   "cell_type": "markdown",
   "id": "91d14249-e673-4fa6-8846-3170576e3a85",
   "metadata": {},
   "source": [
    "# Q2. Write a Python function to estimate the population mean using a sample mean and standard deviation."
   ]
  },
  {
   "cell_type": "code",
   "execution_count": 3,
   "id": "3c4c6b50-34c8-4e11-ba2f-9c4fa41eddd8",
   "metadata": {},
   "outputs": [
    {
     "name": "stdout",
     "output_type": "stream",
     "text": [
      "Estimated population mean: 50\n",
      "Confidence Interval: (48.04, 51.96)\n"
     ]
    }
   ],
   "source": [
    "def estimate_population_mean(sample_mean, sample_std_dev, sample_size):\n",
    "    \n",
    "    margin_of_error = 1.96 * (sample_std_dev / (sample_size ** 0.5))  # 1.96 corresponds to a 95% confidence interval\n",
    "    \n",
    "    # Calculate the lower and upper bounds of the confidence interval\n",
    "    lower_bound = sample_mean - margin_of_error\n",
    "    upper_bound = sample_mean + margin_of_error\n",
    "    \n",
    "    return lower_bound, upper_bound\n",
    "\n",
    "# Example usage:\n",
    "sample_mean = 50 \n",
    "sample_std_dev = 10 \n",
    "sample_size = 100\n",
    "\n",
    "lower, upper = estimate_population_mean(sample_mean, sample_std_dev, sample_size)\n",
    "\n",
    "print(f\"Estimated population mean: {sample_mean}\")\n",
    "print(f\"Confidence Interval: ({lower}, {upper})\")"
   ]
  },
  {
   "cell_type": "markdown",
   "id": "d1398a56-dde4-419b-8224-d4ef801e18b4",
   "metadata": {},
   "source": [
    "# Q3: What is Hypothesis testing? Why is it used? State the importance of Hypothesis testing."
   ]
  },
  {
   "cell_type": "markdown",
   "id": "aae2f14c-587e-4949-8127-b3382bdcd61a",
   "metadata": {},
   "source": [
    "Hypothesis testing is a statistical method used to make informed decisions about populations based on sample data. It is used to determine whether observed differences or relationships are statistically significant or simply due to chance.\n",
    "\n",
    "Importance of Hypothesis Testing:\n",
    "\n",
    "Informed Decision-Making: It helps in making data-driven decisions and drawing valid conclusions.\n",
    "Scientific Validity: Essential in scientific research to establish the significance of results.\n",
    "Quality Control: Ensures product quality by comparing samples to standards.\n",
    "Policy Evaluation: Used by governments and organizations to assess the impact of policies and programs.\n",
    "Medical Research: Evaluates the effectiveness of treatments and drugs.\n",
    "Risk Assessment: Helps in assessing risks and making informed business decisions.\n",
    "In short, hypothesis testing is vital for drawing meaningful insights from data and guiding decision-making across various domains."
   ]
  },
  {
   "cell_type": "markdown",
   "id": "c587bf9e-78d3-4469-941a-0c4d262eca99",
   "metadata": {},
   "source": [
    "# Q4. Create a hypothesis that states whether the average weight of male college students is greater than the average weight of female college students."
   ]
  },
  {
   "cell_type": "markdown",
   "id": "09f0a2ed-6bc3-4b7b-9d8f-0ff204e73485",
   "metadata": {},
   "source": [
    "Null Hypothesis (H0): The average weight of male college students is equal to or less than the average weight of female college students.\n",
    "\n",
    "Alternative Hypothesis (Ha): The average weight of male college students is greater than the average weight of female college students.\n",
    "\n",
    "This hypothesis testing aims to determine if there is a statistically significant difference in the average weight between male and female college students, with the alternative hypothesis suggesting that male students tend to be heavier on average."
   ]
  },
  {
   "cell_type": "markdown",
   "id": "bb7abb8c-e489-48a7-b6d1-125097b42394",
   "metadata": {},
   "source": [
    "# Q5. Write a Python script to conduct a hypothesis test on the difference between two population means, given a sample from each population."
   ]
  },
  {
   "cell_type": "code",
   "execution_count": 5,
   "id": "d315523a-3687-449b-b353-63e47d6ff548",
   "metadata": {},
   "outputs": [
    {
     "name": "stdout",
     "output_type": "stream",
     "text": [
      "Reject the null hypothesis\n",
      "t-statistic: 5.1961524227066365\n",
      "P-value: 6.084358912816847e-05\n"
     ]
    }
   ],
   "source": [
    "import numpy as np\n",
    "from scipy import stats\n",
    "\n",
    "sample1 = np.array([84, 86, 85, 90, 88, 87, 86, 82, 85, 89])\n",
    "sample2 = np.array([78, 80, 79, 82, 81, 83, 80, 78, 82, 85])\n",
    "\n",
    "# Define the significance level (alpha)\n",
    "alpha = 0.05\n",
    "\n",
    "# Perform a two-sample t-test\n",
    "t_stat, p_value = stats.ttest_ind(sample1, sample2)\n",
    "\n",
    "# Determine whether to reject the null hypothesis\n",
    "if p_value < alpha:\n",
    "    print(\"Reject the null hypothesis\")\n",
    "else:\n",
    "    print(\"Fail to reject the null hypothesis\")\n",
    "\n",
    "print(f\"t-statistic: {t_stat}\")\n",
    "print(f\"P-value: {p_value}\")"
   ]
  },
  {
   "cell_type": "markdown",
   "id": "455b8f90-6382-4784-9c18-a62f38e544b4",
   "metadata": {},
   "source": [
    "# Q6: What is a null and alternative hypothesis? Give some examples."
   ]
  },
  {
   "cell_type": "markdown",
   "id": "242f5f9e-2b0e-4edd-a929-119a1ed3b96e",
   "metadata": {},
   "source": [
    "Null Hypothesis (H0):\n",
    "\n",
    "The null hypothesis is a statement that there is no significant difference, effect, or relationship between variables.\n",
    "It represents the default or status quo assumption.\n",
    "In statistical notation, it is often denoted as H0.\n",
    "Example of a Null Hypothesis:\n",
    "\n",
    "H0: The average test scores of students who receive tutoring are equal to the average test scores of students who do not receive tutoring.\n",
    "Alternative Hypothesis (Ha):\n",
    "\n",
    "The alternative hypothesis is a statement that contradicts the null hypothesis.\n",
    "It suggests that there is a significant difference, effect, or relationship between variables.\n",
    "In statistical notation, it is often denoted as Ha or H1.\n",
    "Example of an Alternative Hypothesis:\n",
    "\n",
    "Ha: The average test scores of students who receive tutoring are not equal to the average test scores of students who do not receive tutoring."
   ]
  },
  {
   "cell_type": "markdown",
   "id": "bf59128d-99a0-4dca-a1cf-3ca57a23f4a6",
   "metadata": {},
   "source": [
    "# Q7: Write down the steps involved in hypothesis testing."
   ]
  },
  {
   "cell_type": "markdown",
   "id": "43974cad-2efa-43f8-bfd3-dfda070f82d0",
   "metadata": {},
   "source": [
    "Formulate Hypotheses:\n",
    "Null Hypothesis (H0): The default assumption with no effect.\n",
    "Alternative Hypothesis (Ha): The statement to be tested.\n",
    "\n",
    "Select Significance Level (α):\n",
    "Choose a threshold for statistical significance (e.g., α = 0.05).\n",
    "\n",
    "Collect Data:\n",
    "Gather relevant data through experiments or observations.\n",
    "\n",
    "Calculate Test Statistic:\n",
    "Compute a test statistic based on sample data.\n",
    "\n",
    "Determine Critical Region:\n",
    "Define the critical region of extreme values under the null hypothesis.\n",
    "\n",
    "Calculate P-Value:\n",
    "Find the probability of observing a test statistic as extreme as the one calculated.\n",
    "\n",
    "Compare P-Value with α:\n",
    "If P-value ≤ α, reject the null hypothesis.\n",
    "If P-value > α, fail to reject the null hypothesis.\n",
    "\n",
    "Draw Conclusion:\n",
    "Based on the comparison, make a statistical decision.\n",
    "\n",
    "Interpret Results:\n",
    "Explain the practical implications of the decision.\n",
    "\n",
    "Report Findings:\n",
    "Communicate the results and conclusions clearly."
   ]
  },
  {
   "cell_type": "markdown",
   "id": "818c27a1-c51f-4eb1-9874-fa787e2a997e",
   "metadata": {},
   "source": [
    "# Q8. Define p-value and explain its significance in hypothesis testing."
   ]
  },
  {
   "cell_type": "markdown",
   "id": "583391a8-5061-42f7-92f2-ffa5b0cdb299",
   "metadata": {},
   "source": [
    "The p-value is a probability value that measures the strength of evidence against the null hypothesis (H0) in hypothesis testing. In short:\n",
    "\n",
    "Small p-value (typically ≤ α, the chosen significance level): Strong evidence against H0.\n",
    "Large p-value (typically > α): Weak or insufficient evidence against H0.\n",
    "The p-value helps determine whether to reject the null hypothesis. A smaller p-value suggests that the observed data is unlikely to occur under the null hypothesis, leading to the rejection of H0. Conversely, a larger p-value implies that the data is consistent with H0, and there is no significant evidence to reject it. The choice of the significance level (α) influences this decision."
   ]
  },
  {
   "cell_type": "markdown",
   "id": "e9e8259b-03b0-4b6a-8d54-1fdb4078f4cd",
   "metadata": {},
   "source": [
    "# Q9. Generate a Student's t-distribution plot using Python's matplotlib library, with the degrees of freedom parameter set to 10."
   ]
  },
  {
   "cell_type": "code",
   "execution_count": 6,
   "id": "2eefb537-5329-4987-b857-1cd4283d8a3a",
   "metadata": {},
   "outputs": [
    {
     "data": {
      "image/png": "[encoded data removed]",
      "text/plain": [
       "<Figure size 640x480 with 1 Axes>"
      ]
     },
     "metadata": {},
     "output_type": "display_data"
    }
   ],
   "source": [
    "import numpy as np\n",
    "import matplotlib.pyplot as plt\n",
    "from scipy.stats import t\n",
    "\n",
    "# Set the degrees of freedom\n",
    "degrees_of_freedom = 10\n",
    "\n",
    "# Generate x values\n",
    "x = np.linspace(-4, 4, 1000)\n",
    "\n",
    "# Calculate the probability density function (PDF) for the t-distribution\n",
    "pdf = t.pdf(x, df=degrees_of_freedom)\n",
    "\n",
    "# Create the plot\n",
    "plt.plot(x, pdf, label=f't-distribution (df={degrees_of_freedom})')\n",
    "plt.title(f'Student\\'s t-distribution (df={degrees_of_freedom})')\n",
    "plt.xlabel('x')\n",
    "plt.ylabel('PDF')\n",
    "plt.legend()\n",
    "plt.grid(True)\n",
    "plt.show()"
   ]
  },
  {
   "cell_type": "markdown",
   "id": "f1fd9dc7-90c4-493e-9710-06a05469687b",
   "metadata": {},
   "source": [
    "# Q10. Write a Python program to calculate the two-sample t-test for independent samples, given two random samples of equal size and a null hypothesis that the population means are equal."
   ]
  },
  {
   "cell_type": "code",
   "execution_count": 7,
   "id": "29afe600-5acf-417e-b6dd-62af374f4a4e",
   "metadata": {},
   "outputs": [
    {
     "name": "stdout",
     "output_type": "stream",
     "text": [
      "T-Statistic: 5.797169096162335\n",
      "P-Value: 1.71188277690202e-05\n",
      "Reject the null hypothesis - There is a significant difference between the means.\n"
     ]
    }
   ],
   "source": [
    "import numpy as np\n",
    "from scipy import stats\n",
    "\n",
    "sample1 = np.array([84, 88, 79, 90, 92, 78, 85, 87, 86, 82])\n",
    "sample2 = np.array([75, 79, 70, 72, 80, 77, 75, 74, 73, 76])\n",
    "\n",
    "alpha = 0.05\n",
    "\n",
    "t_statistic, p_value = stats.ttest_ind(sample1, sample2)\n",
    "\n",
    "# Print the results\n",
    "print(f'T-Statistic: {t_statistic}')\n",
    "print(f'P-Value: {p_value}')\n",
    "\n",
    "if p_value < alpha:\n",
    "    print('Reject the null hypothesis - There is a significant difference between the means.')\n",
    "else:\n",
    "    print('Fail to reject the null hypothesis - There is no significant difference between the means.')\n"
   ]
  },
  {
   "cell_type": "markdown",
   "id": "753ce4ff-961c-4ba2-baa1-6133453d55fd",
   "metadata": {},
   "source": [
    "# Q11: What is Student’s t distribution? When to use the t-Distribution."
   ]
  },
  {
   "cell_type": "markdown",
   "id": "6a318d15-369c-4d91-a936-67f9fbeaff4a",
   "metadata": {},
   "source": [
    "Student's t-distribution is used when dealing with small samples or when the population standard deviation is unknown. \n",
    "\n",
    "It has thicker tails than the normal distribution, making it suitable for handling outliers and uncertainty in small samples. \n",
    "\n",
    "It's crucial for hypothesis testing and confidence interval calculations in such cases."
   ]
  },
  {
   "cell_type": "markdown",
   "id": "d098a0e8-203b-4edc-af9c-20fead538808",
   "metadata": {},
   "source": [
    "# Q12: What is t-statistic? State the formula for t-statistic."
   ]
  },
  {
   "cell_type": "markdown",
   "id": "49175f11-5e40-490f-8079-61297a1deda8",
   "metadata": {},
   "source": [
    "\n",
    "The t-statistic is a measure used in hypothesis testing to assess the difference between sample means. The formula for the t-statistic is:\n",
    "\n",
    "t = sample mean difference / standard error of the difference"
   ]
  },
  {
   "cell_type": "markdown",
   "id": "1ce3a928-7dce-4c58-b6ec-3d5773a496ae",
   "metadata": {},
   "source": [
    "# Q13. A coffee shop owner wants to estimate the average daily revenue for their shop. They take a random sample of 50 days and find the sample mean revenue to be $500 with a standard deviation of $50 . Estimate the population mean revenue with a 95% confidence interval."
   ]
  },
  {
   "cell_type": "code",
   "execution_count": 8,
   "id": "72b7a2f3-5c57-47a0-858f-515faebfc340",
   "metadata": {},
   "outputs": [
    {
     "name": "stdout",
     "output_type": "stream",
     "text": [
      "95% Confidence Interval for Average Daily Revenue: ($486.14 - $513.86)\n"
     ]
    }
   ],
   "source": [
    "import math\n",
    "\n",
    "# Given data\n",
    "sample_mean = 500\n",
    "standard_deviation = 50\n",
    "sample_size = 50\n",
    "confidence_level = 0.95\n",
    "\n",
    "# Z-value for a 95% confidence interval\n",
    "z_value = 1.96 \n",
    "\n",
    "# Calculate the standard error\n",
    "standard_error = standard_deviation / math.sqrt(sample_size)\n",
    "\n",
    "# Calculate the margin of error\n",
    "margin_of_error = z_value * standard_error\n",
    "\n",
    "# Calculate the confidence interval\n",
    "lower_bound = sample_mean - margin_of_error\n",
    "upper_bound = sample_mean + margin_of_error\n",
    "\n",
    "# Print the confidence interval\n",
    "print(f\"95% Confidence Interval for Average Daily Revenue: (${lower_bound:.2f} - ${upper_bound:.2f})\")"
   ]
  },
  {
   "cell_type": "markdown",
   "id": "f65fc3f5-f7ac-45c6-8560-edf889d171c0",
   "metadata": {},
   "source": [
    "# Q14. A researcher hypothesizes that a new drug will decrease blood pressure by 10 mmHg. They conduct a clinical trial with 100 patients and find that the sample mean decrease in blood pressure is 8 mmHg with a standard deviation of 3 mmHg. Test the hypothesis with a significance level of 0.05."
   ]
  },
  {
   "cell_type": "code",
   "execution_count": 9,
   "id": "3487db88-7d47-461a-979f-57fdad6b21d3",
   "metadata": {},
   "outputs": [
    {
     "name": "stdout",
     "output_type": "stream",
     "text": [
      "The null hypothesis is rejected. The new drug has a significant effect on blood pressure.\n"
     ]
    }
   ],
   "source": [
    "import scipy.stats as stats\n",
    "\n",
    "# Given data\n",
    "sample_mean = 8  # Sample mean decrease in blood pressure\n",
    "population_mean = 10  # Hypothesized population mean decrease\n",
    "standard_deviation = 3  # Standard deviation of the sample\n",
    "sample_size = 100  # Number of patients\n",
    "significance_level = 0.05  # Desired significance level\n",
    "\n",
    "# Calculate the t-statistic\n",
    "t_statistic = (sample_mean - population_mean) / (standard_deviation / (sample_size**0.5))\n",
    "\n",
    "# Calculate the degrees of freedom\n",
    "degrees_of_freedom = sample_size - 1\n",
    "\n",
    "# Calculate the p-value\n",
    "p_value = 2 * (1 - stats.t.cdf(abs(t_statistic), df=degrees_of_freedom))\n",
    "\n",
    "# Check if the null hypothesis is rejected\n",
    "if p_value < significance_level:\n",
    "    print(f\"The null hypothesis is rejected. The new drug has a significant effect on blood pressure.\")\n",
    "else:\n",
    "    print(f\"The null hypothesis is not rejected. There is no significant effect of the new drug on blood pressure.\")"
   ]
  },
  {
   "cell_type": "markdown",
   "id": "3edd833f-1e9a-4258-8f56-9cadba026433",
   "metadata": {},
   "source": [
    "# Q15. An electronics company produces a certain type of product with a mean weight of 5 pounds and a standard deviation of 0.5 pounds. A random sample of 25 products is taken, and the sample mean weight is found to be 4.8 pounds. Test the hypothesis that the true mean weight of the products is less than 5 pounds with a significance level of 0.01."
   ]
  },
  {
   "cell_type": "code",
   "execution_count": 12,
   "id": "027e6ff3-d6c8-4110-b738-bb49dbf04ec5",
   "metadata": {},
   "outputs": [
    {
     "name": "stdout",
     "output_type": "stream",
     "text": [
      "The null hypothesis is not rejected. There is no sufficient evidence to conclude that the true mean weight is less than 5 pounds.\n"
     ]
    }
   ],
   "source": [
    "import scipy.stats as stats\n",
    "\n",
    "# Given data\n",
    "sample_mean = 4.8  # Sample mean weight\n",
    "population_mean = 5  # Hypothesized population mean weight\n",
    "standard_deviation = 0.5  # Standard deviation of the population\n",
    "sample_size = 25  # Sample size\n",
    "significance_level = 0.01  # Desired significance level\n",
    "\n",
    "# Calculate the t-statistic\n",
    "t_statistic = (sample_mean - population_mean) / (standard_deviation / (sample_size**0.5))\n",
    "\n",
    "# Calculate the degrees of freedom\n",
    "degrees_of_freedom = sample_size - 1\n",
    "\n",
    "# Calculate the p-value for a one-tailed test (since we are testing if the true mean is less)\n",
    "p_value = stats.t.cdf(t_statistic, df=degrees_of_freedom)\n",
    "\n",
    "# Check if the null hypothesis is rejected\n",
    "if p_value < significance_level:\n",
    "    print(f\"The null hypothesis is rejected. The true mean weight of the products is less than 5 pounds.\")\n",
    "else:\n",
    "    print(f\"The null hypothesis is not rejected. There is no sufficient evidence to conclude that the true mean weight is less than 5 pounds.\")"
   ]
  },
  {
   "cell_type": "markdown",
   "id": "109b5866-c504-457b-84fc-9f2ad25cc6d0",
   "metadata": {},
   "source": [
    "# Q16. Two groups of students are given different study materials to prepare for a test. The first group (n1 = 30) has a mean score of 80 with a standard deviation of 10, and the second group (n2 = 40) has a mean score of 75 with a standard deviation of 8. Test the hypothesis that the population means for the two groups are equal with a significance level of 0.01."
   ]
  },
  {
   "cell_type": "code",
   "execution_count": 11,
   "id": "d999e9f9-0f33-479d-94c1-6193557a43a6",
   "metadata": {},
   "outputs": [
    {
     "name": "stdout",
     "output_type": "stream",
     "text": [
      "The null hypothesis is not rejected. There is no sufficient evidence to conclude that the population means are different.\n"
     ]
    }
   ],
   "source": [
    "import scipy.stats as stats\n",
    "\n",
    "# Group 1 data\n",
    "n1 = 30\n",
    "mean1 = 80\n",
    "std_dev1 = 10\n",
    "\n",
    "# Group 2 data\n",
    "n2 = 40\n",
    "mean2 = 75\n",
    "std_dev2 = 8\n",
    "\n",
    "# Significance level\n",
    "significance_level = 0.01\n",
    "\n",
    "# Calculate the t-statistic and p-value for a two-sample t-test\n",
    "t_statistic, p_value = stats.ttest_ind_from_stats(mean1, std_dev1, n1, mean2, std_dev2, n2)\n",
    "\n",
    "# Check if the null hypothesis is rejected\n",
    "if p_value < significance_level:\n",
    "    print(\"The null hypothesis is rejected. The population means for the two groups are not equal.\")\n",
    "else:\n",
    "    print(\"The null hypothesis is not rejected. There is no sufficient evidence to conclude that the population means are different.\")"
   ]
  },
  {
   "cell_type": "markdown",
   "id": "aefe389c-4933-42ee-8145-0971ae458a1c",
   "metadata": {},
   "source": [
    "# Q17. A marketing company wants to estimate the average number of ads watched by viewers during a TV program. They take a random sample of 50 viewers and find that the sample mean is 4 with a standard deviation of 1.5. Estimate the population mean with a 99% confidence interval."
   ]
  },
  {
   "cell_type": "code",
   "execution_count": 13,
   "id": "95446cd1-bea3-4672-ab86-b1094aed904f",
   "metadata": {},
   "outputs": [
    {
     "name": "stdout",
     "output_type": "stream",
     "text": [
      "Population mean estimate: 4\n",
      "99% Confidence Interval: (3.4314963358572577, 4.568503664142742)\n"
     ]
    }
   ],
   "source": [
    "import scipy.stats as stats\n",
    "\n",
    "# Sample data\n",
    "sample_mean = 4\n",
    "sample_std_dev = 1.5\n",
    "sample_size = 50\n",
    "\n",
    "# Confidence level\n",
    "confidence_level = 0.99\n",
    "\n",
    "# Calculate the standard error\n",
    "standard_error = sample_std_dev / (sample_size ** 0.5)\n",
    "\n",
    "# Calculate the margin of error\n",
    "margin_of_error = stats.t.ppf((1 + confidence_level) / 2, sample_size - 1) * standard_error\n",
    "\n",
    "# Calculate the confidence interval\n",
    "lower_bound = sample_mean - margin_of_error\n",
    "upper_bound = sample_mean + margin_of_error\n",
    "\n",
    "print(f\"Population mean estimate: {sample_mean}\")\n",
    "print(f\"99% Confidence Interval: ({lower_bound}, {upper_bound})\")"
   ]
  },
  {
   "cell_type": "code",
   "execution_count": null,
   "id": "abf0db38-6527-44b1-ab91-30a47b249a30",
   "metadata": {},
   "outputs": [],
   "source": []
  }
 ],
 "metadata": {
  "kernelspec": {
   "display_name": "Python 3 (ipykernel)",
   "language": "python",
   "name": "python3"
  },
  "language_info": {
   "codemirror_mode": {
    "name": "ipython",
    "version": 3
   },
   "file_extension": ".py",
   "mimetype": "text/x-python",
   "name": "python",
   "nbconvert_exporter": "python",
   "pygments_lexer": "ipython3",
   "version": "3.10.8"
  }
 },
 "nbformat": 4,
 "nbformat_minor": 5
}
