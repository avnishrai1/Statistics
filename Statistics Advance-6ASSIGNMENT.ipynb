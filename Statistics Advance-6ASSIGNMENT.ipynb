{
 "cells": [
  {
   "cell_type": "markdown",
   "id": "29944186-a1d4-4135-a90c-e7acb0872d41",
   "metadata": {},
   "source": [
    "# Q1. Explain the assumptions required to use ANOVA and provide examples of violations that could impact the validity of the results."
   ]
  },
  {
   "cell_type": "markdown",
   "id": "f9142a56-492a-41a0-ba58-1e737f0b1e1c",
   "metadata": {},
   "source": [
    "Assumptions for ANOVA:\n",
    "\n",
    "Homogeneity of Variance: Variances are roughly equal across groups.\n",
    "\n",
    "Violation Example: One group has significantly larger variance in test scores than others.\n",
    "Independence of Observations: Data points are not dependent on each other.\n",
    "\n",
    "Violation Example: Repeated measurements of the same individuals are not independent.\n",
    "Normality of Residuals: Residuals (differences between observed and predicted values) follow a normal distribution.\n",
    "\n",
    "Violation Example: Residuals show a skewed or non-normal distribution.\n",
    "Violations of these assumptions can lead to inaccurate ANOVA results."
   ]
  },
  {
   "cell_type": "markdown",
   "id": "a476e60b-5be4-470e-9e40-39f3d00b0a22",
   "metadata": {},
   "source": [
    "# Q2. What are the three types of ANOVA, and in what situations would each be used?"
   ]
  },
  {
   "cell_type": "markdown",
   "id": "2f1007d3-b4ce-4e94-8cc1-be834cded4db",
   "metadata": {},
   "source": [
    "Three types of ANOVA:\n",
    "\n",
    "One-Way ANOVA:\n",
    "\n",
    "Used when you have one categorical independent variable (factor) with three or more levels (groups).\n",
    "Determines if there are significant differences in means between the groups.\n",
    "Two-Way ANOVA:\n",
    "\n",
    "Used when you have two categorical independent variables (factors) and want to assess their individual and interactive effects on a dependent variable.\n",
    "Determines if there are significant main effects and interactions between the factors.\n",
    "Three-Way ANOVA:\n",
    "\n",
    "Used when you have three categorical independent variables (factors) and want to assess their individual and interactive effects on a dependent variable.\n",
    "Similar to two-way ANOVA but with an additional factor."
   ]
  },
  {
   "cell_type": "markdown",
   "id": "0197ad1e-e96f-4a9c-bfb9-47e8398cdfed",
   "metadata": {},
   "source": [
    "# Q3. What is the partitioning of variance in ANOVA, and why is it important to understand this concept?"
   ]
  },
  {
   "cell_type": "markdown",
   "id": "0a40a781-bd32-4a11-b010-c74b97c86cbf",
   "metadata": {},
   "source": [
    "The partitioning of variance in ANOVA involves breaking down the total variance in a dataset into different components to understand the sources of variability in your data. It's important to understand this concept because it helps you:\n",
    "\n",
    "Identify Sources of Variation: It allows you to see how much of the variability in your data is due to differences between groups (treatments) and how much is due to random variability (within groups).\n",
    "\n",
    "Assess Group Differences: By quantifying the variation between groups, you can determine if the differences you observe are statistically significant or if they could have occurred by chance.\n",
    "\n",
    "Interpret Results: Understanding the partitioning of variance helps you interpret ANOVA results and draw meaningful conclusions about the effects of different factors or treatments on the dependent variable.\n",
    "\n",
    "Guide Further Analysis: It informs you whether additional analyses, like post-hoc tests, are needed to compare specific group means when ANOVA indicates significant differences."
   ]
  },
  {
   "cell_type": "markdown",
   "id": "39610943-59dc-4c9c-b9e7-57f52aa9d1b6",
   "metadata": {},
   "source": [
    "# Q4. How would you calculate the total sum of squares (SST), explained sum of squares (SSE), and residual sum of squares (SSR) in a one-way ANOVA using Python?"
   ]
  },
  {
   "cell_type": "markdown",
   "id": "2c667218-0322-4c8b-bb90-2868f99d66e9",
   "metadata": {},
   "source": [
    "In a one-way ANOVA, you can calculate the Total Sum of Squares (SST), Explained Sum of Squares (SSE), and Residual Sum of Squares (SSR) using Python as follows:\n",
    "\n",
    "Assuming you have a dataset with one independent variable (factor) and one dependent variable, and you've already loaded your data into a variable called data, and your groups are labeled group1, group2, etc. You can use the scipy library for this calculation:"
   ]
  },
  {
   "cell_type": "code",
   "execution_count": 3,
   "id": "2297cea6-37fe-479a-a6b9-a2cc358a153a",
   "metadata": {},
   "outputs": [
    {
     "name": "stdout",
     "output_type": "stream",
     "text": [
      "SST: 1030.0\n",
      "SSE: 1000.0\n",
      "SSR: 30.0\n"
     ]
    }
   ],
   "source": [
    "import numpy as np\n",
    "import scipy.stats as stats\n",
    "\n",
    "# Assume you have a dataset like this\n",
    "data = {\n",
    "    'group1': [12, 13, 14, 15, 16],\n",
    "    'group2': [22, 23, 24, 25, 26],\n",
    "    'group3': [32, 33, 34, 35, 36]\n",
    "}\n",
    "\n",
    "# Calculate the overall mean\n",
    "overall_mean = np.mean([value for group in data.values() for value in group])\n",
    "\n",
    "# Calculate SST\n",
    "sst = np.sum((overall_mean - [value for group in data.values() for value in group])**2)\n",
    "\n",
    "# Calculate group means\n",
    "group_means = {group: np.mean(values) for group, values in data.items()}\n",
    "\n",
    "# Calculate SSE\n",
    "sse = np.sum([len(values) * (mean - overall_mean)**2 for group, values, mean in zip(data.keys(), data.values(), group_means.values())])\n",
    "\n",
    "# Calculate SSR\n",
    "ssr = sst - sse\n",
    "\n",
    "print(f'SST: {sst}')\n",
    "print(f'SSE: {sse}')\n",
    "print(f'SSR: {ssr}')"
   ]
  },
  {
   "cell_type": "markdown",
   "id": "0ae963ad-9c4c-4711-a9ef-58d6cc30cc02",
   "metadata": {},
   "source": [
    "# Q5. In a two-way ANOVA, how would you calculate the main effects and interaction effects using Python?"
   ]
  },
  {
   "cell_type": "code",
   "execution_count": 10,
   "id": "97d68163-8182-43de-8571-3e1d762d3a44",
   "metadata": {},
   "outputs": [
    {
     "name": "stdout",
     "output_type": "stream",
     "text": [
      "             sum_sq    df         F    PR(>F)\n",
      "C(A)       0.002424   1.0  0.046896  0.830385\n",
      "C(B)       0.222947   2.0  2.157028  0.137566\n",
      "C(A):C(B)  0.429144   2.0  4.151995  0.028279\n",
      "Residual   1.240301  24.0       NaN       NaN\n"
     ]
    }
   ],
   "source": [
    "import numpy as np\n",
    "import pandas as pd\n",
    "import statsmodels.api as sm\n",
    "from statsmodels.formula.api import ols\n",
    "\n",
    "# Assume you have a dataset like this\n",
    "data = pd.DataFrame({\n",
    "    'A': np.repeat(['A1', 'A2'], 15),\n",
    "    'B': np.tile(np.repeat(['B1', 'B2', 'B3'], 5), 2),\n",
    "    'value': np.random.random(30)\n",
    "})\n",
    "\n",
    "# Fit the model\n",
    "model = ols('value ~ C(A) + C(B) + C(A):C(B)', data).fit()\n",
    "\n",
    "# Perform ANOVA and print the table\n",
    "anova_table = sm.stats.anova_lm(model, typ=2)\n",
    "print(anova_table)"
   ]
  },
  {
   "cell_type": "markdown",
   "id": "700ff9b7-7cf6-4643-9a5d-b00e4c742d05",
   "metadata": {},
   "source": [
    "# Q6. Suppose you conducted a one-way ANOVA and obtained an F-statistic of 5.23 and a p-value of 0.02. What can you conclude about the differences between the groups, and how would you interpret these results?"
   ]
  },
  {
   "cell_type": "markdown",
   "id": "f61e3e85-0747-4778-8e8a-7ffd4dd68b1a",
   "metadata": {},
   "source": [
    "In a one-way ANOVA, the F-statistic is used to test whether there are significant differences in means between the groups. In your scenario:\n",
    "\n",
    "F-statistic: 5.23\n",
    "p-value: 0.02\n",
    "Here's how to interpret these results:\n",
    "\n",
    "F-Statistic: The F-statistic measures the ratio of variation between the group means to the variation within the groups. A larger F-statistic indicates larger differences between group means compared to within-group variation.\n",
    "\n",
    "p-Value: The p-value is the probability of observing an F-statistic as extreme as the one calculated from your data, assuming that there are no real differences between the groups (i.e., the null hypothesis is true). A smaller p-value suggests stronger evidence against the null hypothesis.\n",
    "\n",
    "Interpretation:\n",
    "\n",
    "Since the p-value (0.02) is less than the conventional significance level (e.g., 0.05), you would typically reject the null hypothesis. This means that there is evidence to suggest that there are significant differences in means between the groups.\n",
    "\n",
    "In practical terms, the differences between the groups are statistically significant. However, you would also want to consider the effect size and the context of your study to determine if these differences are practically significant and meaningful."
   ]
  },
  {
   "cell_type": "markdown",
   "id": "e6760208-1d2d-49c8-b882-4ec2ca8ddc11",
   "metadata": {},
   "source": [
    "# Q7. In a repeated measures ANOVA, how would you handle missing data, and what are the potential consequences of using different methods to handle missing data?"
   ]
  },
  {
   "cell_type": "markdown",
   "id": "76ece856-b134-4341-a1ac-0ec35c197772",
   "metadata": {},
   "source": [
    "In a repeated measures ANOVA, handling missing data is an important consideration, as missing data can potentially bias your results and reduce the statistical power of your analysis. There are several methods to handle missing data, each with its own potential consequences:\n",
    "\n",
    "Listwise Deletion (Complete Case Analysis):\n",
    "\n",
    "Incomplete cases (participants with missing data on any variable) are removed from the analysis.\n",
    "Pros:\n",
    "Simple and easy to implement.\n",
    "Cons:\n",
    "Reduces the sample size and statistical power.\n",
    "May introduce bias if missing data are not completely random (i.e., missing data are related to the outcome or other variables).\n",
    "Pairwise Deletion (Available Case Analysis):\n",
    "\n",
    "Analysis is conducted using all available data for each pair of variables.\n",
    "Pros:\n",
    "Uses all available data and avoids sample size reduction.\n",
    "Cons:\n",
    "Different subsets of data are used for different comparisons, potentially leading to biased results.\n",
    "Standard errors may be incorrect, making hypothesis tests and confidence intervals unreliable.\n",
    "Imputation:\n",
    "\n",
    "Missing values are replaced with estimated values using imputation methods (e.g., mean imputation, regression imputation, multiple imputation).\n",
    "Pros:\n",
    "Retains all cases and maximizes sample size and statistical power.\n",
    "Reduces potential bias.\n",
    "Cons:\n",
    "The choice of imputation method can impact results.\n",
    "Imputation assumes that the missing data are missing at random (MAR), which may not always hold true.\n",
    "Mixed Models (Longitudinal Analysis):\n",
    "\n",
    "Utilizes all available data points while accounting for within-subject correlations.\n",
    "Pros:\n",
    "Retains all data points and properly accounts for the repeated measures structure.\n",
    "Cons:\n",
    "Requires more advanced statistical techniques and software.\n",
    "Assumption of missing at random (MAR) should still be met.\n",
    "\n",
    "The consequences of using different methods to handle missing data include potential bias, changes in the significance of results, and differences in effect size estimates. It's important to carefully consider the nature of your data and the reasons for missingness when choosing a method. Imputation methods are often preferred when missing data are not completely at random, but the choice of imputation method should be based on the specific characteristics of your dataset."
   ]
  },
  {
   "cell_type": "markdown",
   "id": "414396d5-92cd-47ea-aa55-d7d40d8f586b",
   "metadata": {},
   "source": [
    "# Q8. What are some common post-hoc tests used after ANOVA, and when would you use each one? Provide an example of a situation where a post-hoc test might be necessary."
   ]
  },
  {
   "cell_type": "markdown",
   "id": "1a6d022d-74d4-482e-8605-37671b8205bb",
   "metadata": {},
   "source": [
    "Post-hoc tests are used after conducting an analysis of variance (ANOVA) to make pairwise comparisons between groups when the ANOVA indicates that there are significant differences among group means. Common post-hoc tests include:\n",
    "\n",
    "Tukey's Honestly Significant Difference (Tukey HSD):\n",
    "\n",
    "When to use: Tukey's HSD is a conservative test that controls the familywise error rate. It is suitable when you have conducted an ANOVA with three or more groups and want to compare all pairs of groups to determine which ones are significantly different from each other.\n",
    "Example: In a study comparing the effectiveness of four different treatments for a medical condition, you want to determine which pairs of treatments result in significantly different outcomes.\n",
    "Bonferroni Correction:\n",
    "\n",
    "When to use: The Bonferroni correction is a more conservative approach to control the familywise error rate by adjusting the significance level for each pairwise comparison. It is suitable when you want to control for multiple comparisons, especially when you have a large number of groups.\n",
    "Example: You are conducting multiple pairwise comparisons between the means of 10 different groups, and you want to ensure that the overall Type I error rate is controlled.\n",
    "Duncan's Multiple Range Test:\n",
    "\n",
    "When to use: Duncan's test is used when you have conducted an ANOVA and you want to perform pairwise comparisons to determine which groups are significantly different from each other. It is less conservative than Tukey's HSD.\n",
    "Example: In an agricultural study, you are comparing the yields of different varieties of a crop, and you want to identify which varieties have significantly different yields.\n",
    "Sidak Correction:\n",
    "\n",
    "When to use: The Sidak correction is another method for adjusting the significance level to control the familywise error rate. It is suitable for pairwise comparisons when you want to control for multiple comparisons.\n",
    "Example: You are comparing the performance of different advertising strategies across various markets, and you need to make pairwise comparisons while controlling the overall Type I error rate.\n",
    "Fisher's Least Significant Difference (LSD):\n",
    "\n",
    "When to use: Fisher's LSD is a less conservative post-hoc test that is suitable when you have conducted an ANOVA with three or more groups and you want to compare individual pairs of groups.\n",
    "Example: In a psychology experiment, you have measured the reaction times of participants in different conditions, and you want to determine which pairs of conditions resulted in significantly different reaction times.\n",
    "Example Situation:\n",
    "Let's say you conducted an ANOVA to compare the performance of three different teaching methods on student test scores. The ANOVA results indicate that there is a statistically significant difference among the means of the three teaching methods. In this case, you would use a post-hoc test, such as Tukey's HSD or Bonferroni correction, to perform pairwise comparisons between the teaching methods to identify which specific methods lead to significantly different test scores. This would help you gain insights into which teaching methods are more effective than others."
   ]
  },
  {
   "cell_type": "markdown",
   "id": "16b08ecf-59d1-40ed-8fcc-7ad6fa026d67",
   "metadata": {},
   "source": [
    "# Q9. A researcher wants to compare the mean weight loss of three diets: A, B, and C. They collect data from 50 participants who were randomly assigned to one of the diets. Conduct a one-way ANOVA using Python to determine if there are any significant differences between the mean weight loss of the three diets. Report the F-statistic and p-value, and interpret the results."
   ]
  },
  {
   "cell_type": "code",
   "execution_count": 11,
   "id": "3ae694df-27c7-42d6-93e7-68e52709fe71",
   "metadata": {},
   "outputs": [
    {
     "name": "stdout",
     "output_type": "stream",
     "text": [
      "F-Statistic: 385.8565543496798\n",
      "p-value: 3.1922763908583244e-59\n",
      "There are significant differences in mean weight loss between the diets.\n"
     ]
    }
   ],
   "source": [
    "import numpy as np\n",
    "import scipy.stats as stats\n",
    "\n",
    "# Sample data for weight loss in each diet group\n",
    "diet_A = np.array([2.1, 1.8, 2.5, 2.3, 1.9, 2.0, 1.6, 1.7, 2.2, 1.8,\n",
    "                   2.0, 2.1, 1.9, 1.7, 2.3, 2.4, 2.0, 1.8, 2.2, 2.1,\n",
    "                   1.7, 2.5, 2.4, 2.2, 2.0, 2.1, 1.9, 1.8, 2.3, 2.4,\n",
    "                   2.1, 2.2, 2.0, 1.9, 1.8, 2.4, 2.3, 2.1, 2.2, 1.7,\n",
    "                   1.8, 2.0, 2.1, 1.9, 2.4, 2.2, 1.8, 2.3, 2.5, 2.1])\n",
    "\n",
    "diet_B = np.array([1.5, 1.2, 1.9, 1.6, 1.3, 1.4, 1.7, 1.8, 1.5, 1.6,\n",
    "                   1.4, 1.2, 1.8, 1.6, 1.3, 1.9, 1.5, 1.7, 1.6, 1.4,\n",
    "                   1.8, 1.9, 1.5, 1.4, 1.2, 1.7, 1.6, 1.8, 1.9, 1.3,\n",
    "                   1.5, 1.7, 1.8, 1.2, 1.4, 1.6, 1.3, 1.9, 1.7, 1.5,\n",
    "                   1.8, 1.6, 1.4, 1.2, 1.9, 1.7, 1.5, 1.3, 1.8, 1.6])\n",
    "\n",
    "diet_C = np.array([2.9, 2.7, 2.5, 2.8, 3.0, 2.6, 2.7, 2.9, 3.1, 2.5,\n",
    "                   2.6, 2.8, 3.0, 2.7, 2.6, 2.8, 2.9, 2.7, 3.1, 2.5,\n",
    "                   2.8, 3.0, 2.7, 2.6, 2.9, 2.5, 3.2, 2.7, 2.8, 2.6,\n",
    "                   2.9, 3.0, 2.8, 2.7, 2.6, 3.1, 2.5, 2.9, 2.8, 2.7,\n",
    "                   2.6, 2.7, 3.0, 2.8, 2.9, 3.1, 2.5, 2.6, 2.7, 2.8])\n",
    "\n",
    "# Perform one-way ANOVA\n",
    "f_statistic, p_value = stats.f_oneway(diet_A, diet_B, diet_C)\n",
    "\n",
    "# Output the results\n",
    "print(\"F-Statistic:\", f_statistic)\n",
    "print(\"p-value:\", p_value)\n",
    "\n",
    "# Interpret the results\n",
    "if p_value < 0.05:\n",
    "    print(\"There are significant differences in mean weight loss between the diets.\")\n",
    "else:\n",
    "    print(\"There are no significant differences in mean weight loss between the diets.\")"
   ]
  },
  {
   "cell_type": "markdown",
   "id": "c07ccc53-ad10-4743-97c9-038f7daf20be",
   "metadata": {},
   "source": [
    "# Q10. A company wants to know if there are any significant differences in the average time it takes to complete a task using three different software programs: Program A, Program B, and Program C. They randomly assign 30 employees to one of the programs and record the time it takes each employee to complete the task. Conduct a two-way ANOVA using Python to determine if there are any main effects or interaction effects between the software programs and employee experience level (novice vs. experienced). Report the F-statistics and p-values, and interpret the results."
   ]
  },
  {
   "cell_type": "code",
   "execution_count": 12,
   "id": "a0a068f4-0c18-4244-8648-d9afe7822d9d",
   "metadata": {},
   "outputs": [
    {
     "name": "stdout",
     "output_type": "stream",
     "text": [
      "                              sum_sq    df          F    PR(>F)\n",
      "C(Software)                 1.608667   2.0   0.903069  0.418657\n",
      "C(Experience)              28.033333   1.0  31.474551  0.000009\n",
      "C(Software):C(Experience)   0.240667   2.0   0.135105  0.874284\n",
      "Residual                   21.376000  24.0        NaN       NaN\n"
     ]
    }
   ],
   "source": [
    "import pandas as pd\n",
    "import statsmodels.api as sm\n",
    "from statsmodels.formula.api import ols\n",
    "\n",
    "# Create a DataFrame with software programs, experience level, and task completion times\n",
    "data = pd.DataFrame({\n",
    "    'Software': ['A', 'B', 'C'] * 10,\n",
    "    'Experience': ['Novice'] * 15 + ['Experienced'] * 15,\n",
    "    'Time': [12.3, 13.1, 11.9, 13.5, 12.8, 13.7, 11.6, 13.2, 12.5, 13.0,\n",
    "             14.2, 14.0, 13.4, 14.1, 14.3, 9.8, 10.2, 9.5, 10.0, 10.4,\n",
    "             11.8, 11.5, 12.0, 11.9, 11.6, 12.2, 11.4, 12.1, 11.7, 12.5]\n",
    "})\n",
    "\n",
    "# Fit a two-way ANOVA model\n",
    "model = ols('Time ~ C(Software) + C(Experience) + C(Software):C(Experience)', data=data).fit()\n",
    "anova_table = sm.stats.anova_lm(model, typ=2)\n",
    "\n",
    "# Output the results\n",
    "print(anova_table)"
   ]
  },
  {
   "cell_type": "markdown",
   "id": "922c955b-fc3f-45c4-80d5-a5728cca8310",
   "metadata": {},
   "source": [
    "# Q11. An educational researcher is interested in whether a new teaching method improves student test scores. They randomly assign 100 students to either the control group (traditional teaching method) or the experimental group (new teaching method) and administer a test at the end of the semester. Conduct a two-sample t-test using Python to determine if there are any significant differences in test scores between the two groups. If the results are significant, follow up with a post-hoc test to determine which group(s) differ significantly from each other."
   ]
  },
  {
   "cell_type": "code",
   "execution_count": 13,
   "id": "9b091cd6-4a17-4c68-af9f-9950bece270a",
   "metadata": {},
   "outputs": [
    {
     "name": "stdout",
     "output_type": "stream",
     "text": [
      "Two-Sample T-Test Results:\n",
      "t-statistic: -6.872731683285833\n",
      "p-value: 5.877565294167974e-10\n",
      "There is a significant difference in test scores between the control and experimental groups.\n"
     ]
    }
   ],
   "source": [
    "import numpy as np\n",
    "import scipy.stats as stats\n",
    "\n",
    "# Generate example test scores for the control and experimental groups\n",
    "np.random.seed(42)  # for reproducibility\n",
    "control_group = np.random.normal(75, 5, 50)  # Control group with a mean of 75 and standard deviation of 5\n",
    "experimental_group = np.random.normal(80, 5, 50)  # Experimental group with a mean of 80 and standard deviation of 5\n",
    "\n",
    "# Perform a two-sample t-test\n",
    "t_statistic, p_value = stats.ttest_ind(control_group, experimental_group)\n",
    "\n",
    "# Output the results\n",
    "print(\"Two-Sample T-Test Results:\")\n",
    "print(\"t-statistic:\", t_statistic)\n",
    "print(\"p-value:\", p_value)\n",
    "\n",
    "# Interpret the results\n",
    "if p_value < 0.05:\n",
    "    print(\"There is a significant difference in test scores between the control and experimental groups.\")\n",
    "    # You can proceed with post-hoc tests here if needed.\n",
    "else:\n",
    "    print(\"There is no significant difference in test scores between the groups.\")"
   ]
  },
  {
   "cell_type": "markdown",
   "id": "2f7367aa-f49b-4c3a-b0e8-e99b57cf9a4e",
   "metadata": {},
   "source": [
    "# Q12. A researcher wants to know if there are any significant differences in the average daily sales of three retail stores: Store A, Store B, and Store C. They randomly select 30 days and record the sales for each store on those days. Conduct a repeated measures ANOVA using Python to determine if there are any significant differences in sales between the three stores. If the results are significant, follow up with a post- hoc test to determine which store(s) differ significantly from each other."
   ]
  },
  {
   "cell_type": "code",
   "execution_count": 17,
   "id": "ee02debd-07ae-408f-9ebf-5efa74e44235",
   "metadata": {},
   "outputs": [
    {
     "name": "stdout",
     "output_type": "stream",
     "text": [
      "             sum_sq    df         F    PR(>F)\n",
      "C(A)       0.003603   1.0  0.039687  0.843771\n",
      "C(B)       0.235059   2.0  1.294489  0.292493\n",
      "C(A):C(B)  0.040964   2.0  0.225589  0.799719\n",
      "Residual   2.179015  24.0       NaN       NaN\n"
     ]
    }
   ],
   "source": [
    "import numpy as np\n",
    "import pandas as pd\n",
    "import statsmodels.api as sm\n",
    "from statsmodels.formula.api import ols\n",
    "\n",
    "# Assume you have a dataset like this\n",
    "data = pd.DataFrame({\n",
    "    'A': np.repeat(['A1', 'A2'], 15),\n",
    "    'B': np.tile(np.repeat(['B1', 'B2', 'B3'], 5), 2),\n",
    "    'value': np.random.random(30)\n",
    "})\n",
    "\n",
    "# Fit the model\n",
    "model = ols('value ~ C(A) + C(B) + C(A):C(B)', data).fit()\n",
    "\n",
    "# Perform ANOVA and print the table\n",
    "anova_table = sm.stats.anova_lm(model, typ=2)\n",
    "print(anova_table)"
   ]
  }
 ],
 "metadata": {
  "kernelspec": {
   "display_name": "Python 3 (ipykernel)",
   "language": "python",
   "name": "python3"
  },
  "language_info": {
   "codemirror_mode": {
    "name": "ipython",
    "version": 3
   },
   "file_extension": ".py",
   "mimetype": "text/x-python",
   "name": "python",
   "nbconvert_exporter": "python",
   "pygments_lexer": "ipython3",
   "version": "3.10.8"
  }
 },
 "nbformat": 4,
 "nbformat_minor": 5
}
