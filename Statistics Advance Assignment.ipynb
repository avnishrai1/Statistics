{
 "cells": [
  {
   "cell_type": "markdown",
   "id": "e6b448d2-3cf3-43cf-96f8-997346046264",
   "metadata": {},
   "source": [
    "# Q1. What is the Probability density function?"
   ]
  },
  {
   "cell_type": "markdown",
   "id": "fb9f803d-e9eb-4624-bdbd-d772225a868c",
   "metadata": {
    "tags": []
   },
   "source": [
    "# Ans.A Probability Density Function (PDF) is a statistical concept used in probability theory and statistics to describe the likelihood of a continuous random variable taking on a particular value. It is often denoted as f(x), where \"x\" represents the random variable.\n",
    "\n",
    "# The PDF of a continuous random variable provides a mathematical function that describes the relative likelihood of different values of that variable occurring. Unlike a probability mass function (PMF), which is used for discrete random variables, a PDF does not give the exact probability of a single value but rather the probability density at a specific point."
   ]
  },
  {
   "cell_type": "markdown",
   "id": "dac53912-4b36-43ed-8a8d-41ca0917ef5f",
   "metadata": {},
   "source": [
    "# Q2. What are the types of Probability distribution?"
   ]
  },
  {
   "cell_type": "markdown",
   "id": "73fb650f-a122-4ef6-b2e2-86e2caff982f",
   "metadata": {},
   "source": [
    "# Ans.The main types of probability distributions:\n",
    "\n",
    "Discrete Probability Distributions:\n",
    "1.Bernoulli Distribution\n",
    "2.Binomial Distribution\n",
    "3.Poisson Distribution\n",
    "\n",
    "Continuous Probability Distributions:\n",
    "1.Normal Distribution\n",
    "2.Uniform Distribution\n",
    "3.Exponential Distribution"
   ]
  },
  {
   "cell_type": "markdown",
   "id": "bf275a9e-b8b7-4f28-8186-2cc00a3f2094",
   "metadata": {},
   "source": [
    "# Q3. Write a Python function to calculate the probability density function of a normal distribution with given mean and standard deviation at a given point."
   ]
  },
  {
   "cell_type": "code",
   "execution_count": null,
   "id": "fdc5baae-35c0-4b7a-b587-5a5e5b238cef",
   "metadata": {},
   "outputs": [],
   "source": [
    "import math\n",
    "\n",
    "def calculate_normal_pdf(mean, std_dev, x):\n",
    "\n",
    "    exponent = -(x - mean)**2 / (2 * std_dev**2)\n",
    "    pdf = (1 / (std_dev * math.sqrt(2 * math.pi))) * math.exp(exponent)\n",
    "    return pdf\n",
    "\n",
    "# Example usage:\n",
    "mean = 5.0\n",
    "std_dev = 2.0\n",
    "x = 6.0\n",
    "\n",
    "pdf_value = calculate_normal_pdf(mean, std_dev, x)\n",
    "print(f\"PDF at x={x}: {pdf_value}\")\n"
   ]
  },
  {
   "cell_type": "markdown",
   "id": "94fd1d36-e320-410e-910e-9e649e5bdb8a",
   "metadata": {},
   "source": [
    "# Q4. What are the properties of Binomial distribution? Give two examples of events where binomial distribution can be applied."
   ]
  },
  {
   "cell_type": "markdown",
   "id": "c59d4764-05f7-4091-a96a-67df4df87327",
   "metadata": {},
   "source": [
    "# The properties of the Binomial distribution include :\n",
    "\n",
    "1. Fixed Number of Trials (n): The distribution is defined for a fixed number of trials or experiments, denoted as \"n.\"\n",
    "2. Two Outcomes: Each trial has only two possible outcomes: success (usually denoted as \"1\") and failure (usually denoted as \"0\").\n",
    "3. Independence: The trials are independent of each other, meaning the outcome of one trial does not affect the outcome of another.\n",
    "4. Constant Probability of Success (p): The probability of success (p) remains constant for each trial. The probability of failure (1-p) is                                         also constant.\n",
    "5. Discrete: The random variable representing the number of successes (often denoted as \"X\") takes on discrete integer values.\n",
    "6. Parameters: The Binomial distribution is characterized by two parameters: n (the number of trials) and p (the probability of success on                each trial).\n",
    "\n",
    "Two examples of events where the Binomial distribution can be applied are:\n",
    "\n",
    "Coin Flips: When flipping a fair coin (where the probability of getting heads is 0.5) multiple times (n trials), you can use a Binomial distribution to calculate the probability of getting a certain number of heads in those flips.\n",
    "\n",
    "Medical Trials: In a clinical trial to test the effectiveness of a new drug, each patient can either respond positively (success) or not (failure). If you conduct a clinical trial with a fixed number of patients (n) and know the probability of a patient responding to the drug (p), you can use the Binomial distribution to calculate the probability of a specific number of patients responding favorably."
   ]
  },
  {
   "cell_type": "markdown",
   "id": "9adf1d97-94b8-4696-82c8-d9918b29819e",
   "metadata": {},
   "source": [
    "# Q5. Generate a random sample of size 1000 from a binomial distribution with probability of success 0.4 and plot a histogram of the results using matplotlib."
   ]
  },
  {
   "cell_type": "code",
   "execution_count": 10,
   "id": "9641cc90-5c7f-4b50-af45-a29655deed4e",
   "metadata": {},
   "outputs": [
    {
     "data": {
      "image/png": "[encoded data removed]",
      "text/plain": [
       "<Figure size 640x480 with 1 Axes>"
      ]
     },
     "metadata": {},
     "output_type": "display_data"
    }
   ],
   "source": [
    "import numpy as np\n",
    "import matplotlib.pyplot as plt\n",
    "\n",
    "n = 1000  \n",
    "p = 0.4   \n",
    "\n",
    "random_sample = np.random.binomial(1, p, n)  \n",
    "\n",
    "plt.hist(random_sample, bins=[0, 1, 2], align='left', rwidth=0.8, color='red', alpha=0.7)\n",
    "plt.xlabel('Success (1) / Failure (0)')\n",
    "plt.ylabel('Frequency')\n",
    "plt.title('Histogram of Random Sample from Binomial Distribution')\n",
    "plt.xticks([0, 1])  \n",
    "plt.show()\n"
   ]
  },
  {
   "cell_type": "markdown",
   "id": "26c280b7-72c2-475c-94f3-1ece0a8cad2f",
   "metadata": {},
   "source": [
    "# Q6. Write a Python function to calculate the cumulative distribution function of a Poisson distribution with given mean at a given point."
   ]
  },
  {
   "cell_type": "code",
   "execution_count": 12,
   "id": "6fa6a57c-8349-4bd1-86f7-109b4f29df05",
   "metadata": {},
   "outputs": [
    {
     "name": "stdout",
     "output_type": "stream",
     "text": [
      "CDF at x=2: 0.3208\n"
     ]
    }
   ],
   "source": [
    "import math\n",
    "\n",
    "def poisson_cdf(mean, x):\n",
    "\n",
    "    cdf = 0  \n",
    "    for k in range(x + 1):\n",
    "        probability = (math.exp(-mean) * mean**k) / math.factorial(k)\n",
    "        cdf = cdf + probability\n",
    "\n",
    "    return cdf\n",
    "\n",
    "mean = 3.5\n",
    "x = 2\n",
    "\n",
    "cdf_value = poisson_cdf(mean, x)\n",
    "print(f\"CDF at x={x}: {cdf_value:.4f}\")\n"
   ]
  },
  {
   "cell_type": "markdown",
   "id": "ba28efd2-2a0d-4ad3-925d-0e1f013eb954",
   "metadata": {},
   "source": [
    "# Q7. How Binomial distribution different from Poisson distribution?"
   ]
  },
  {
   "cell_type": "markdown",
   "id": "c50b1408-e472-47d0-a913-62b741824c67",
   "metadata": {},
   "source": [
    "Ans.The Binomial distribution applies to scenarios with a fixed number of trials and two possible outcomes (success or failure). In contrast, the Poisson distribution is used for events that occur randomly over a continuous interval when the number of events is relatively large and rare. The Binomial distribution has two parameters (number of trials and success probability), while the Poisson distribution has one parameter (average event rate). In summary, Binomial deals with discrete trials and binary outcomes, while Poisson is for rare events in continuous time or space."
   ]
  },
  {
   "cell_type": "markdown",
   "id": "632a0bf6-5f6b-4a7d-99af-086aa7e60b6f",
   "metadata": {},
   "source": [
    "# Q8. Generate a random sample of size 1000 from a Poisson distribution with mean 5 and calculate the sample mean and variance."
   ]
  },
  {
   "cell_type": "code",
   "execution_count": 14,
   "id": "c4899f5c-b250-4878-b4a7-5e747d3a980a",
   "metadata": {},
   "outputs": [
    {
     "name": "stdout",
     "output_type": "stream",
     "text": [
      "Sample Mean: 4.97\n",
      "Sample Variance: 5.06\n"
     ]
    }
   ],
   "source": [
    "import numpy as np\n",
    "\n",
    "# Set the parameters\n",
    "sample_size = 1000\n",
    "mean = 5\n",
    "\n",
    "# Generate a random sample\n",
    "random_sample = np.random.poisson(mean, size=sample_size)\n",
    "\n",
    "# Calculate sample mean and variance\n",
    "sample_mean = np.mean(random_sample)\n",
    "sample_variance = np.var(random_sample)\n",
    "\n",
    "# Print the results\n",
    "print(f\"Sample Mean: {sample_mean:.2f}\")\n",
    "print(f\"Sample Variance: {sample_variance:.2f}\")"
   ]
  },
  {
   "cell_type": "markdown",
   "id": "bc7ee195-e92e-487b-ae1a-c4e9ae301295",
   "metadata": {},
   "source": [
    "# Q9. How mean and variance are related in Binomial distribution and Poisson distribution?"
   ]
  },
  {
   "cell_type": "markdown",
   "id": "91e5e03e-f872-40f9-b87a-ba0049c127a5",
   "metadata": {},
   "source": [
    "Ans.\n",
    "In the Binomial distribution, which deals with a fixed number of trials and binary outcomes, the variance is related to the mean as σ² = n * p * (1 - p), where \"n\" is the number of trials and \"p\" is the probability of success. As \"n\" or \"p\" increases, so does the variance.\n",
    "\n",
    "In the Poisson distribution, used for rare events in continuous time or space, the relationship between mean and variance is different. In this case, the variance equals the mean, σ² = μ = λ, where \"λ\" represents the average rate of events. \n",
    "\n",
    "For Poisson, the variance is directly proportional to the mean, but it does not depend on the probability of success as in the Binomial distribution."
   ]
  },
  {
   "cell_type": "markdown",
   "id": "736464ab-a0e8-4a89-af4e-8ae550ef085b",
   "metadata": {},
   "source": [
    "# Q10. In normal distribution with respect to mean position, where does the least frequent data appear?\n"
   ]
  },
  {
   "cell_type": "markdown",
   "id": "6ab13b98-58ee-4747-a960-bdc9cdf78b0f",
   "metadata": {},
   "source": [
    "Ans.\n",
    "In a normal distribution, the least frequent data appears in the tails of the distribution, farthest away from the mean position. The normal distribution is symmetric and bell-shaped, with the highest frequency of data occurring at the mean (the central peak). \n",
    "\n",
    "As you move away from the mean in either direction, towards the tails of the distribution, the frequency of data points decreases. The tails represent extreme values, and these values are less likely to occur in a normal distribution. \n",
    "\n",
    "Therefore, the least frequent data points are found in the tails, both to the left and right of the mean, and the most frequent data points are clustered around the mean."
   ]
  }
 ],
 "metadata": {
  "kernelspec": {
   "display_name": "Python 3 (ipykernel)",
   "language": "python",
   "name": "python3"
  },
  "language_info": {
   "codemirror_mode": {
    "name": "ipython",
    "version": 3
   },
   "file_extension": ".py",
   "mimetype": "text/x-python",
   "name": "python",
   "nbconvert_exporter": "python",
   "pygments_lexer": "ipython3",
   "version": "3.10.8"
  }
 },
 "nbformat": 4,
 "nbformat_minor": 5
}
